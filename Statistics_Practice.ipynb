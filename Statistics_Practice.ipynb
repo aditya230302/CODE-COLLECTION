{
  "nbformat": 4,
  "nbformat_minor": 0,
  "metadata": {
    "colab": {
      "provenance": []
    },
    "kernelspec": {
      "name": "python3",
      "display_name": "Python 3"
    },
    "language_info": {
      "name": "python"
    }
  },
  "cells": [
    {
      "cell_type": "markdown",
      "source": [
        "### **1 Sample Z Test**\n",
        "\n",
        "**Test 1 : Z-test for a population mean (variance known)**\n",
        "\n",
        "**Data**\n",
        "\n",
        "    H0: μ0 = 4.0\n",
        "    n = 9, x ̄ = 4.6\n",
        "    σ = 1.0\n",
        "    ∴ Z = 1.8\n",
        "\n",
        "**Hypotheses and alternatives**\n",
        "1. H0: μ = μ0 , H1: μ != μ0 # Two tailed\n",
        "2. H0: μ = μ0 , H1: μ>μ0 # one tailed\n",
        "\n",
        "**Conclusion**\n",
        "1. Do not reject H0.\n",
        "2. Reject H0"
      ],
      "metadata": {
        "id": "linQyXklRoNW"
      }
    },
    {
      "cell_type": "code",
      "execution_count": null,
      "metadata": {
        "colab": {
          "base_uri": "https://localhost:8080/"
        },
        "id": "bb-ZBMtfQMx0",
        "outputId": "afc76666-6c64-4b88-af3c-b81a5d1d2ebf"
      },
      "outputs": [
        {
          "output_type": "stream",
          "name": "stdout",
          "text": [
            "Failed to Reject H0\n"
          ]
        }
      ],
      "source": [
        "# 1. H0: μ = μ0 , H1: μ != μ0\n",
        "# Two tailed z test\n",
        "import numpy as np\n",
        "from scipy.stats import norm\n",
        "\n",
        "population_mean = 4.0\n",
        "n = 9\n",
        "sample_mean = 4.6\n",
        "pop_std_dev = 1.0\n",
        "alpha = 0.05\n",
        "\n",
        "z_score =(sample_mean - population_mean)/(pop_std_dev/np.sqrt(n)) # 1.8 acording to data given, ours is 1.7999999999...\n",
        "p_value = 2*(1 - norm.cdf(abs(z_score)))\n",
        "\n",
        "if p_value >= alpha:\n",
        "  print(\"Failed to Reject H0\")\n",
        "if p_value < alpha :\n",
        "  print(\"Reject H0\")"
      ]
    },
    {
      "cell_type": "code",
      "source": [
        "# 2. H0: μ = μ0 , H1: μ>μ0\n",
        "# one tailed\n",
        "from scipy.stats import norm\n",
        "import numpy as np\n",
        "\n",
        "population_mean = 4.0\n",
        "n = 9\n",
        "sample_mean = 4.6\n",
        "pop_std_dev = 1.0\n",
        "alpha = 0.05\n",
        "\n",
        "z_score = (sample_mean - population_mean)/(pop_std_dev/(np.sqrt(n)))\n",
        "p_value = 1 - norm.cdf(abs(z_score))\n",
        "\n",
        "if p_value >= alpha:\n",
        "  print(\"Failed to Reject H0\")\n",
        "if p_value < alpha :\n",
        "  print(\"Reject H0\")"
      ],
      "metadata": {
        "colab": {
          "base_uri": "https://localhost:8080/"
        },
        "id": "YMDRDfnhTk5T",
        "outputId": "b4b3fefe-ac92-4d0c-97bc-afad1a9437db"
      },
      "execution_count": null,
      "outputs": [
        {
          "output_type": "stream",
          "name": "stdout",
          "text": [
            "Reject H0\n"
          ]
        }
      ]
    },
    {
      "cell_type": "markdown",
      "source": [
        "### **2 Sample Z Test**\n",
        "\n",
        "**Test 2 : Z-test for two population means (variances known and unequal)**\n",
        "\n",
        "**Hypotheses and alternatives :**\n",
        "1. H0: μ1 − μ2 = μ0 , H1: μ1 − μ2 != μ0 # Two tailed\n",
        "2. H0: μ1 − μ2 = μ0 , H1: μ1 − μ2 > μ0 # one tailed\n",
        "\n",
        "**Data**\n",
        "\n",
        "    H0: μ1 − μ2 = 0\n",
        "    n1 = 9, n2 = 16\n",
        "    x ̄1 = 1.2, x ̄2 = 1.7\n",
        "    σ21 = 1, σ22 = 4\n",
        "    ∴ Z = −0.832\n",
        "\n",
        "**Conclusion**\n",
        "1. Do not reject H0.\n",
        "2. Do not reject H0."
      ],
      "metadata": {
        "id": "s_h-DGeKVIqs"
      }
    },
    {
      "cell_type": "code",
      "source": [
        "# 1. H0: μ1 − μ2 = μ0 , H1: μ1 − μ2 != μ0\n",
        "# Two tailed\n",
        "from scipy.stats import norm\n",
        "import numpy as np\n",
        "\n",
        "n1 = 9\n",
        "n2 = 16\n",
        "\n",
        "sample_mean_1 = 1.2\n",
        "sample_mean_2 = 1.7\n",
        "\n",
        "pop_std_dev_1 = np.sqrt(1)\n",
        "pop_std_dev_2 = np.sqrt(4)\n",
        "\n",
        "z_score = (sample_mean_1 - sample_mean_2) / np.sqrt((pop_std_dev_1**2 / n1) + (pop_std_dev_2**2 / n2))\n",
        "print(f\"z score : {z_score}\")\n",
        "\n",
        "p_value = 2 * (1 - norm.cdf(abs(z_score)))\n",
        "print(f\"p value : {p_value}\")\n",
        "\n",
        "if p_value >= alpha:\n",
        "  print(\"Failed to Reject H0\")\n",
        "if p_value < alpha :\n",
        "  print(\"Reject H0\")"
      ],
      "metadata": {
        "colab": {
          "base_uri": "https://localhost:8080/"
        },
        "id": "iy4bQY-bU8W6",
        "outputId": "9582c003-12eb-4e26-83dd-218f1a3c5bd2"
      },
      "execution_count": null,
      "outputs": [
        {
          "output_type": "stream",
          "name": "stdout",
          "text": [
            "z score : -0.8320502943378437\n",
            "p value : 0.40538055645894233\n",
            "Failed to Reject H0\n"
          ]
        }
      ]
    },
    {
      "cell_type": "code",
      "source": [
        "# H0: μ1 − μ2 = μ0 , H1: μ1 − μ2 > μ0\n",
        "# one tailed\n",
        "from scipy.stats import norm\n",
        "import numpy as np\n",
        "\n",
        "n1 = 9\n",
        "n2 = 16\n",
        "\n",
        "sample_mean_1 = 1.2\n",
        "sample_mean_2 = 1.7\n",
        "\n",
        "pop_std_dev_1 = np.sqrt(1)\n",
        "pop_std_dev_2 = np.sqrt(4)\n",
        "\n",
        "z_score = (sample_mean_1 - sample_mean_2) / np.sqrt((pop_std_dev_1**2 / n1) + (pop_std_dev_2**2 / n2))\n",
        "print(f\"z score : {z_score}\")\n",
        "\n",
        "p_value = 1 - norm.cdf(abs(z_score))\n",
        "print(f\"p value : {p_value}\")\n",
        "\n",
        "if p_value >= alpha:\n",
        "  print(\"Failed to Reject H0\")\n",
        "if p_value < alpha :\n",
        "  print(\"Reject H0\")"
      ],
      "metadata": {
        "colab": {
          "base_uri": "https://localhost:8080/"
        },
        "id": "85eHOBX_XOYb",
        "outputId": "91cf745e-efce-4440-fd0f-1f4cd5214b28"
      },
      "execution_count": null,
      "outputs": [
        {
          "output_type": "stream",
          "name": "stdout",
          "text": [
            "z score : -0.8320502943378437\n",
            "p value : 0.20269027822947117\n",
            "Failed to Reject H0\n"
          ]
        }
      ]
    },
    {
      "cell_type": "markdown",
      "source": [
        "### **Z Test for Proportions**"
      ],
      "metadata": {
        "id": "zXWPFRsClmYs"
      }
    },
    {
      "cell_type": "code",
      "source": [
        "import numpy as np\n",
        "from statsmodels.stats.proportion import proportions_ztest\n",
        "\n",
        "#data\n",
        "vegetarian_count = 960\n",
        "# vegetarian_count = 180\n",
        "total_population = 1860\n",
        "\n",
        "#phat\n",
        "p_hat = vegetarian_count/total_population\n",
        "\n",
        "alpha = 0.01\n",
        "\n",
        "z_stat, p_value = proportions_ztest(count=vegetarian_count,\n",
        "                                   nobs=total_population,     #number of observations\n",
        "                                   value=0.50,\n",
        "                                   alternative=\"two-sided\")\n",
        "\n",
        "\n",
        "\n",
        "if p_value < alpha:\n",
        "    print(\"Reject Null Hypo H0 : Veg and NonVeg are unequall in number \")\n",
        "else:\n",
        "    print(\"Accept Null H0 : Veg and NonVeg are equall in number\")"
      ],
      "metadata": {
        "colab": {
          "base_uri": "https://localhost:8080/"
        },
        "id": "u0aUAHJWlrG2",
        "outputId": "dd5977f7-50f9-4a79-fc45-77f9601326b4"
      },
      "execution_count": null,
      "outputs": [
        {
          "output_type": "stream",
          "name": "stdout",
          "text": [
            "Accept Null H0 : Veg and NonVeg are equall in number\n"
          ]
        }
      ]
    },
    {
      "cell_type": "markdown",
      "source": [
        "### **1 Sample T test**\n",
        "\n",
        "**Test 3 : t-test for a population mean (variance unknown)**\n",
        "\n",
        "**Hypotheses and alternatives**\n",
        "1. H0: μ = μ0 , H1: μ != μ0 # two tailed\n",
        "2. H0: μ = μ0 , H1: μ>μ0 # one tailed\n",
        "\n",
        "**Data**\n",
        "\n",
        "    H0: μ0 = 4.0\n",
        "    n = 9, x ̄ = 3.1\n",
        "    s = 1.0\n",
        "    ∴ t = −2.7\n",
        "\n",
        "**Conclusion**\n",
        "1. t8; 0.025 = ±2.306. Reject H0.\n",
        "2. t8; 0.05 = −1.860 (left-hand side). Reject H0."
      ],
      "metadata": {
        "id": "RdZ3GndlXqhj"
      }
    },
    {
      "cell_type": "code",
      "source": [
        "# 1. H0: μ = μ0 , H1: μ != μ0\n",
        "# two tailed\n",
        "import numpy as np\n",
        "from scipy.stats import t\n",
        "\n",
        "pop_mean = 4.0\n",
        "sample_mean = 3.1\n",
        "n = 9\n",
        "sample_std_dev = 1.0\n",
        "df = n - 1\n",
        "ci = 0.95\n",
        "alpha = 1 - ci\n",
        "\n",
        "t_critical = t.ppf(1-alpha/2,df)\n",
        "print(f\"t critical : ±{t_critical}\")\n",
        "\n",
        "t_stats = (sample_mean - pop_mean)/(sample_std_dev/np.sqrt(n))\n",
        "print(f\"t stats : {t_stats}\")\n",
        "\n",
        "p_value = 2*(1 - t.cdf(abs(t_stats), df))\n",
        "print(f\"p value : {p_value}\")\n",
        "\n",
        "if p_value >= alpha:\n",
        "  print(\"Failed to Reject H0\")\n",
        "if p_value < alpha :\n",
        "  print(\"Reject H0\")"
      ],
      "metadata": {
        "colab": {
          "base_uri": "https://localhost:8080/"
        },
        "id": "3unSzA3pXlfa",
        "outputId": "1235da75-3ac9-4467-f3ae-3203b151bd07"
      },
      "execution_count": null,
      "outputs": [
        {
          "output_type": "stream",
          "name": "stdout",
          "text": [
            "t critical : ±2.306004135204166\n",
            "t stats : -2.6999999999999997\n",
            "p value : 0.027074035047965905\n",
            "Reject H0\n"
          ]
        }
      ]
    },
    {
      "cell_type": "code",
      "source": [
        "# 2. H0: μ = μ0 , H1: μ>μ0\n",
        "# one tailed\n",
        "from scipy.stats import t\n",
        "import numpy as np\n",
        "\n",
        "pop_mean = 4.0\n",
        "sample_mean = 3.1\n",
        "n = 9\n",
        "sample_std_dev = 1.0\n",
        "df = n - 1\n",
        "ci = 0.95\n",
        "alpha = 1 - ci\n",
        "\n",
        "t_critical = t.ppf(1-alpha, df)\n",
        "print(f\"t critical : {t_critical}\")\n",
        "\n",
        "t_stats = (sample_mean - pop_mean)/(sample_std_dev/np.sqrt(n))\n",
        "print(f\"t stats : {t_stats}\")\n",
        "\n",
        "p_value = 1 - t.cdf(abs(t_stats), df)\n",
        "print(f\"p value : {p_value}\")\n",
        "\n",
        "if p_value >= alpha:\n",
        "  print(\"Failed to Reject H0\")\n",
        "if p_value < alpha :\n",
        "  print(\"Reject H0\")"
      ],
      "metadata": {
        "colab": {
          "base_uri": "https://localhost:8080/"
        },
        "id": "ciSx6OuAZcZV",
        "outputId": "2e642f16-d452-4fa4-b9a3-bda70eb13560"
      },
      "execution_count": null,
      "outputs": [
        {
          "output_type": "stream",
          "name": "stdout",
          "text": [
            "t critical : 1.8595480375228424\n",
            "t stats : -2.6999999999999997\n",
            "p value : 0.013537017523982953\n",
            "Reject H0\n"
          ]
        }
      ]
    },
    {
      "cell_type": "markdown",
      "source": [
        "### **2 sample T test**\n",
        "\n",
        "**Test 4 : t-test for two population means (variance unknown but equal)**\n",
        "\n",
        "**Hypotheses and alternatives :**\n",
        "1. H0: μ1 − μ2 = μ0 , H1: μ1 − μ2 != μ0 # Two tailed\n",
        "2. H0: μ1 − μ2 = μ0 , H1: μ1 − μ2 > μ0 # one tailed\n",
        "\n",
        "**Data**\n",
        "\n",
        "    H0: μ1 − μ2 = 0\n",
        "    n1 = 16, n2 = 16\n",
        "    x ̄1 = 5.0, x ̄2 = 4\n",
        "    s = 2.0\n",
        "    ∴ t = 1.414\n",
        "\n",
        "**Conclusion**\n",
        "1. t30; 0.025 = ±2.042. Do not reject H0.\n",
        "2. t30; 0.05 = 1.697. Do not reject H0."
      ],
      "metadata": {
        "id": "Oewzta5bac2J"
      }
    },
    {
      "cell_type": "code",
      "source": [
        "# 1. H0: μ1 − μ2 = μ0 , H1: μ1 − μ2 != μ0\n",
        "# Two tailed\n",
        "import numpy as np\n",
        "from scipy.stats import t\n",
        "n1 = 16\n",
        "n2 = 16\n",
        "sample_mean_1 = 5.0\n",
        "sample_mean_2 = 4\n",
        "sample_std_dev = 2.0\n",
        "ci = 0.95\n",
        "alpha = 1 - ci\n",
        "\n",
        "df = n1 + n2 - 2\n",
        "\n",
        "t_critical = t.ppf(1-alpha/2,df)\n",
        "print(f\"t critical : ±{t_critical}\")\n",
        "\n",
        "t_stats = (sample_mean_1 - sample_mean_2)/(sample_std_dev*np.sqrt((1/n1)+(1/n2)))\n",
        "print(f\"t stats : {t_stats}\")\n",
        "\n",
        "p_value = 2*(1 - t.cdf(abs(t_stats), df))\n",
        "print(f\"p value : {p_value}\")\n",
        "\n",
        "if p_value >= alpha:\n",
        "  print(\"Failed to Reject H0\")\n",
        "if p_value < alpha :\n",
        "  print(\"Reject H0\")"
      ],
      "metadata": {
        "colab": {
          "base_uri": "https://localhost:8080/"
        },
        "id": "WkmOUTbSaGnm",
        "outputId": "5270a247-e606-4115-9f81-096b30aeb58a"
      },
      "execution_count": null,
      "outputs": [
        {
          "output_type": "stream",
          "name": "stdout",
          "text": [
            "t critical : ±2.0422724563012373\n",
            "t stats : 1.414213562373095\n",
            "p value : 0.16759410801934616\n",
            "Failed to Reject H0\n"
          ]
        }
      ]
    },
    {
      "cell_type": "code",
      "source": [
        "# 1. H0: μ1 − μ2 = μ0 , H1: μ1 − μ2 > μ0\n",
        "# one tailed\n",
        "import numpy as np\n",
        "from scipy.stats import t\n",
        "n1 = 16\n",
        "n2 = 16\n",
        "sample_mean_1 = 5.0\n",
        "sample_mean_2 = 4\n",
        "sample_std_dev = 2.0\n",
        "ci = 0.95\n",
        "alpha = 1 - ci\n",
        "\n",
        "df = n1 + n2 - 2\n",
        "\n",
        "t_critical = t.ppf(1-alpha,df)\n",
        "print(f\"t critical : ±{t_critical}\")\n",
        "\n",
        "t_stats = (sample_mean_1 - sample_mean_2)/(sample_std_dev*np.sqrt((1/n1)+(1/n2)))\n",
        "print(f\"t stats : {t_stats}\")\n",
        "\n",
        "p_value = (1 - t.cdf(abs(t_stats), df))\n",
        "print(f\"p value : {p_value}\")\n",
        "\n",
        "if p_value >= alpha:\n",
        "  print(\"Failed to Reject H0\")\n",
        "if p_value < alpha :\n",
        "  print(\"Reject H0\")"
      ],
      "metadata": {
        "colab": {
          "base_uri": "https://localhost:8080/"
        },
        "id": "1BH4ptgoiFAt",
        "outputId": "c3c09989-5ab7-42ed-c29e-6a026c337949"
      },
      "execution_count": null,
      "outputs": [
        {
          "output_type": "stream",
          "name": "stdout",
          "text": [
            "t critical : ±1.6972608865939574\n",
            "t stats : 1.414213562373095\n",
            "p value : 0.08379705400967308\n",
            "Failed to Reject H0\n"
          ]
        }
      ]
    },
    {
      "cell_type": "markdown",
      "source": [
        "### **Paired T Test**\n",
        "\n",
        "**Test 5 : Method of paired comparisons**\n",
        "\n",
        "**Data**\n",
        "\n",
        "    n1 = 16, d = 1.0\n",
        "    s = 1.0\n",
        "    ∴ t = 4.0\n",
        "\n",
        "**Hypotheses and alternatives**\n",
        "1. H0: μd = 0 , H1: μd != 0\n",
        "2. H0: μd = 0 , H1: μd > 0\n",
        "\n",
        "**Conclusion**\n",
        "1. t15; 0.025 = ±2.131. Reject H0.\n",
        "2. t15; 0.05 = 1.753. Reject H0."
      ],
      "metadata": {
        "id": "Lgo9TOUzirHU"
      }
    },
    {
      "cell_type": "code",
      "source": [
        "# 1. H0: μd = 0 , H1: μd != 0\n",
        "# 2 tailed\n",
        "import numpy as np\n",
        "from scipy.stats import t\n",
        "\n",
        "n1 = 16\n",
        "d = 1.0\n",
        "sample_std_dev = 1.0\n",
        "ci = 0.95\n",
        "alpha = 1 - ci\n",
        "df = n1 - 1\n",
        "\n",
        "t_critical = t.ppf(1-alpha/2,df)\n",
        "print(f\"t critical : ±{t_critical}\")\n",
        "\n",
        "t_stats = (d)/(sample_std_dev/np.sqrt(n1))\n",
        "print(f\"t stats : {t_stats}\")\n",
        "\n",
        "p_value = 2*(1 - t.cdf(abs(t_stats), df))\n",
        "print(f\"p value : {p_value}\")\n",
        "\n",
        "if p_value >= alpha:\n",
        "  print(\"Failed to Reject H0\")\n",
        "  print(\"No difference\")\n",
        "if p_value < alpha :\n",
        "  print(\"Reject H0\")\n",
        "  print(\"Difference\")"
      ],
      "metadata": {
        "colab": {
          "base_uri": "https://localhost:8080/"
        },
        "id": "xy2VUBAaij5j",
        "outputId": "3a13efff-0bd9-4609-9220-48b78f76dc3e"
      },
      "execution_count": null,
      "outputs": [
        {
          "output_type": "stream",
          "name": "stdout",
          "text": [
            "t critical : ±2.131449545559323\n",
            "t stats : 4.0\n",
            "p value : 0.0011593168497612272\n",
            "Reject H0\n",
            "Difference\n"
          ]
        }
      ]
    },
    {
      "cell_type": "code",
      "source": [
        "# 2. H0: μd = 0 , H1: μd > 0\n",
        "# 1 tailed\n",
        "import numpy as np\n",
        "from scipy.stats import t\n",
        "\n",
        "n1 = 16\n",
        "d = 1.0\n",
        "sample_std_dev = 1.0\n",
        "ci = 0.95\n",
        "alpha = 1 - ci\n",
        "df = n1 - 1\n",
        "\n",
        "t_critical = t.ppf(1-alpha,df)\n",
        "print(f\"t critical : ±{t_critical}\")\n",
        "\n",
        "t_stats = (d)/(sample_std_dev/np.sqrt(n1))\n",
        "print(f\"t stats : {t_stats}\")\n",
        "\n",
        "p_value = (1 - t.cdf(abs(t_stats), df))\n",
        "print(f\"p value : {p_value}\")\n",
        "\n",
        "if p_value >= alpha:\n",
        "  print(\"Failed to Reject H0\")\n",
        "  print(\"No difference\")\n",
        "if p_value < alpha :\n",
        "  print(\"Reject H0\")\n",
        "  print(\"Difference\")"
      ],
      "metadata": {
        "colab": {
          "base_uri": "https://localhost:8080/"
        },
        "id": "PimoKlG6jy5B",
        "outputId": "eac50a77-b2e7-4f96-ea98-5debdc87983a"
      },
      "execution_count": null,
      "outputs": [
        {
          "output_type": "stream",
          "name": "stdout",
          "text": [
            "t critical : ±1.7530503556925547\n",
            "t stats : 4.0\n",
            "p value : 0.0005796584248806136\n",
            "Reject H0\n",
            "Difference\n"
          ]
        }
      ]
    },
    {
      "cell_type": "markdown",
      "source": [
        "### **Test 6: Two-sample F-test for equality of variances**"
      ],
      "metadata": {
        "id": "epflYMg1AGcj"
      }
    },
    {
      "cell_type": "code",
      "source": [
        "from scipy.stats import f\n",
        "\n",
        "# Test 6: Two-sample F-test for equality of variances\n",
        "\n",
        "# Hypotheses:\n",
        "# 1. H0: σ1^2 = σ2^2, H1: σ1^2 != σ2^2 (Two-tailed)\n",
        "# 2. H0: σ1^2 = σ2^2, H1: σ1^2 > σ2^2 (One-tailed)\n",
        "\n",
        "# Data:\n",
        "# s1^2 = 10, n1 = 21\n",
        "# s2^2 = 8,  n2 = 25\n",
        "\n",
        "# Calculations:\n",
        "s1_squared = 10\n",
        "n1 = 21\n",
        "s2_squared = 8\n",
        "n2 = 25\n",
        "alpha = 0.05\n",
        "\n",
        "df1 = n1 - 1\n",
        "df2 = n2 - 1\n",
        "\n",
        "# Calculate F-statistic\n",
        "f_statistic = s1_squared / s2_squared\n",
        "print(f\"F-statistic: {f_statistic}\")\n",
        "\n",
        "# 1. Two-tailed F-test\n",
        "f_critical_lower = f.ppf(alpha / 2, df1, df2)\n",
        "f_critical_upper = f.ppf(1 - alpha / 2, df1, df2)\n",
        "print(f\"Two-tailed F-critical values: {f_critical_lower:.3f}, {f_critical_upper:.3f}\")\n",
        "\n",
        "p_value_two_tailed = 2 * min(f.cdf(f_statistic, df1, df2), 1 - f.cdf(f_statistic, df1, df2))\n",
        "print(f\"Two-tailed p-value: {p_value_two_tailed:.3f}\")\n",
        "\n",
        "if p_value_two_tailed < alpha:\n",
        "  print(\"Reject H0: Variances are unequal\")\n",
        "else:\n",
        "  print(\"Failed to Reject H0: Variances are equal\")\n",
        "\n",
        "print(\"-\" * 20)\n",
        "\n",
        "# 2. One-tailed F-test (assuming H1: σ1^2 > σ2^2)\n",
        "f_critical_one_tailed = f.ppf(1 - alpha, df1, df2)\n",
        "print(f\"One-tailed F-critical value: {f_critical_one_tailed:.3f}\")\n",
        "\n",
        "p_value_one_tailed = 1 - f.cdf(f_statistic, df1, df2)\n",
        "print(f\"One-tailed p-value: {p_value_one_tailed:.3f}\")\n",
        "\n",
        "if p_value_one_tailed < alpha:\n",
        "  print(\"Reject H0: Variance of sample 1 is greater than variance of sample 2\")\n",
        "else:\n",
        "  print(\"Failed to Reject H0: Variance of sample 1 is not greater than variance of sample 2\")\n"
      ],
      "metadata": {
        "colab": {
          "base_uri": "https://localhost:8080/"
        },
        "id": "PnoBhwLQkKom",
        "outputId": "265e01f7-f097-419d-e43f-62e4f5eed385"
      },
      "execution_count": null,
      "outputs": [
        {
          "output_type": "stream",
          "name": "stdout",
          "text": [
            "F-statistic: 1.25\n",
            "Two-tailed F-critical values: 0.415, 2.327\n",
            "Two-tailed p-value: 0.596\n",
            "Failed to Reject H0: Variances are equal\n",
            "--------------------\n",
            "One-tailed F-critical value: 2.027\n",
            "One-tailed p-value: 0.298\n",
            "Failed to Reject H0: Variance of sample 1 is not greater than variance of sample 2\n"
          ]
        }
      ]
    },
    {
      "cell_type": "code",
      "source": [
        "import numpy as np\n",
        "from scipy.stats import f\n",
        "\n",
        "\n",
        "alpha = 0.05\n",
        "\n",
        "#Data\n",
        "s1_squared = 10\n",
        "n1 = 21\n",
        "s2_squared = 8\n",
        "n2 = 25\n",
        "alpha = 0.05\n",
        "\n",
        "df1 = n1 - 1\n",
        "df2 = n2 - 1\n",
        "\n",
        "print(f\"Variance 1 : {s1_squared}\")\n",
        "print(f\"Variance 2 : {s2_squared}\")\n",
        "\n",
        "#calculate f_stats\n",
        "f_statistic = max(s1_squared,s2_squared) / min(s1_squared,s2_squared)\n",
        "print(f\"F Statistic : {f_statistic}\")\n",
        "\n",
        "f_critical_value = f.ppf(1-alpha/2, df1,df2)\n",
        "print(f\"f critical : {f_critical_value}\")\n",
        "\n",
        "p_value = f.cdf(f_statistic, df1, df2)\n",
        "\n",
        "if p_value < alpha:\n",
        "  print(\"Reject H0: Variances are unequal\")\n",
        "else:\n",
        "  print(\"Failed to Reject H0: Variances are equal\")"
      ],
      "metadata": {
        "colab": {
          "base_uri": "https://localhost:8080/"
        },
        "id": "krn5EoCEme3N",
        "outputId": "ebd0fc36-6a3e-409c-c04e-a44431ea761f"
      },
      "execution_count": null,
      "outputs": [
        {
          "output_type": "stream",
          "name": "stdout",
          "text": [
            "Variance 1 : 10\n",
            "Variance 2 : 8\n",
            "F Statistic : 1.25\n",
            "f critical : 2.327271444608616\n",
            "Failed to Reject H0: Variances are equal\n"
          ]
        }
      ]
    },
    {
      "cell_type": "markdown",
      "source": [
        "### **F-test in ANOVA (Multiple group means)**"
      ],
      "metadata": {
        "id": "TgSqbEosnhsa"
      }
    },
    {
      "cell_type": "code",
      "source": [
        "from scipy.stats import f_oneway\n",
        "import numpy as np\n",
        "\n",
        "alpha = 0.05 #95 CI\n",
        "\n",
        "#generae data on my own\n",
        "fertilizer_A = [12, 13, 15, 14, 16, 13, 15]   #btw you can add not just 1 but as many as you wany\n",
        "fertilizer_B = [14, 13, 13, 15, 17, 15, 16]\n",
        "# fertilizer_C = [14, 15, 14, 13, 14, 13, 14]\n",
        "fertilizer_C = [10, 18, 17, 14, 19, 17, 16]\n",
        "\n",
        "f_statistics, p_value = f_oneway(fertilizer_A,fertilizer_B,fertilizer_C)\n",
        "print(f\"f_statistics : {f_statistics}\")\n",
        "print(f\"p_value : {p_value}\")\n",
        "\n",
        "if p_value < alpha:\n",
        "    print(\"Reject H0 Hyp : There is significant diff in plant height\")\n",
        "else:\n",
        "    print(\"Accept H0 Hyp : There is no sig diff in plant heights\")"
      ],
      "metadata": {
        "colab": {
          "base_uri": "https://localhost:8080/"
        },
        "id": "OHHhnXPvnPAv",
        "outputId": "4b53e2fe-6d7c-45da-c1f0-1c23937b1c4c"
      },
      "execution_count": null,
      "outputs": [
        {
          "output_type": "stream",
          "name": "stdout",
          "text": [
            "f_statistics : 1.3772241992882563\n",
            "p_value : 0.27762066315388506\n",
            "Accept H0 Hyp : There is no sig diff in plant heights\n"
          ]
        }
      ]
    },
    {
      "cell_type": "markdown",
      "source": [
        "### **2-way ANOVA**\n",
        "- Two-way ANOVA tests the effect of two independent categorical variables on a continuous dependent variable, and also whether there’s interaction between those two variables.\n",
        "\n"
      ],
      "metadata": {
        "id": "W5wk2Vjrn0Kd"
      }
    },
    {
      "cell_type": "code",
      "source": [
        "import pandas as pd\n",
        "import statsmodels.api as sm\n",
        "from statsmodels.formula.api import ols\n",
        "\n",
        "# Sample data\n",
        "data = {\n",
        "    'Fertilizer': ['F1', 'F1', 'F2', 'F2', 'F3', 'F3'] * 3,\n",
        "    'Soil': ['Clay'] * 6 + ['Sandy'] * 6 + ['Loam'] * 6,\n",
        "    'Growth': [12, 13, 14, 15, 16, 15, 10, 11, 13, 14, 15, 13, 18, 17, 19, 18, 20, 19]\n",
        "}\n",
        "\n",
        "df = pd.DataFrame(data)\n",
        "\n",
        "# OLS model with interaction\n",
        "model = ols('Growth ~ C(Fertilizer) + C(Soil) + C(Fertilizer):C(Soil)', data=df).fit()\n",
        "\n",
        "# Two-way ANOVA table\n",
        "anova_table = sm.stats.anova_lm(model, typ=2)\n",
        "print(anova_table)\n",
        "\n",
        "# If p-value < 0.05, the factor or interaction has a significant effect."
      ],
      "metadata": {
        "colab": {
          "base_uri": "https://localhost:8080/"
        },
        "id": "Fq7vZtw9njCw",
        "outputId": "bd725944-2cd9-4f0f-9614-67867e482601"
      },
      "execution_count": null,
      "outputs": [
        {
          "output_type": "stream",
          "name": "stdout",
          "text": [
            "                           sum_sq   df          F    PR(>F)\n",
            "C(Fertilizer)           25.444444  2.0  19.083333  0.000579\n",
            "C(Soil)                110.111111  2.0  82.583333  0.000002\n",
            "C(Fertilizer):C(Soil)    2.222222  4.0   0.833333  0.536836\n",
            "Residual                 6.000000  9.0        NaN       NaN\n"
          ]
        }
      ]
    },
    {
      "cell_type": "code",
      "source": [
        "import pandas as pd\n",
        "from statsmodels.formula.api import ols\n",
        "from statsmodels.stats.anova import anova_lm\n",
        "\n",
        "data = {\n",
        "    \"Gender\":['Male',\"Female\",'Male',\"Female\",'Male',\"Female\",\n",
        "             'Male',\"Female\",'Male',\"Female\"],\n",
        "    \"Education_level\":[\"HS\",\"BD\",\"BD\",\"MD\",\"HS\",\"BD\",\"MD\",\"HS\",\"BD\",\"MD\"],\n",
        "    \"Income\":[30000, 50000,45000,60000,32000,55000,48000,33000,52000,47000]\n",
        "}\n",
        "\n",
        "df = pd.DataFrame(data)\n",
        "\n",
        "\n",
        "#fit the model - run linear regression\n",
        "model = ols(\"Income ~ Gender + Education_level + Gender:Education_level\", data=df).fit()\n",
        "# ordinary least square\n",
        "\n",
        "anova_result = anova_lm(model)\n",
        "anova_result"
      ],
      "metadata": {
        "colab": {
          "base_uri": "https://localhost:8080/",
          "height": 175
        },
        "id": "RLnabQ4UoJbt",
        "outputId": "387749d1-45fe-4f60-dd19-f9bc4fec815d"
      },
      "execution_count": null,
      "outputs": [
        {
          "output_type": "execute_result",
          "data": {
            "text/plain": [
              "                         df        sum_sq       mean_sq          F    PR(>F)\n",
              "Gender                  1.0  1.444000e+08  1.444000e+08   4.676923  0.096605\n",
              "Education_level         2.0  6.775810e+08  3.387905e+08  10.972971  0.023767\n",
              "Gender:Education_level  2.0  4.119048e+06  2.059524e+06   0.066705  0.936490\n",
              "Residual                4.0  1.235000e+08  3.087500e+07        NaN       NaN"
            ],
            "text/html": [
              "\n",
              "  <div id=\"df-6788ee11-7ec4-4af9-ad01-96760cfe0c0d\" class=\"colab-df-container\">\n",
              "    <div>\n",
              "<style scoped>\n",
              "    .dataframe tbody tr th:only-of-type {\n",
              "        vertical-align: middle;\n",
              "    }\n",
              "\n",
              "    .dataframe tbody tr th {\n",
              "        vertical-align: top;\n",
              "    }\n",
              "\n",
              "    .dataframe thead th {\n",
              "        text-align: right;\n",
              "    }\n",
              "</style>\n",
              "<table border=\"1\" class=\"dataframe\">\n",
              "  <thead>\n",
              "    <tr style=\"text-align: right;\">\n",
              "      <th></th>\n",
              "      <th>df</th>\n",
              "      <th>sum_sq</th>\n",
              "      <th>mean_sq</th>\n",
              "      <th>F</th>\n",
              "      <th>PR(&gt;F)</th>\n",
              "    </tr>\n",
              "  </thead>\n",
              "  <tbody>\n",
              "    <tr>\n",
              "      <th>Gender</th>\n",
              "      <td>1.0</td>\n",
              "      <td>1.444000e+08</td>\n",
              "      <td>1.444000e+08</td>\n",
              "      <td>4.676923</td>\n",
              "      <td>0.096605</td>\n",
              "    </tr>\n",
              "    <tr>\n",
              "      <th>Education_level</th>\n",
              "      <td>2.0</td>\n",
              "      <td>6.775810e+08</td>\n",
              "      <td>3.387905e+08</td>\n",
              "      <td>10.972971</td>\n",
              "      <td>0.023767</td>\n",
              "    </tr>\n",
              "    <tr>\n",
              "      <th>Gender:Education_level</th>\n",
              "      <td>2.0</td>\n",
              "      <td>4.119048e+06</td>\n",
              "      <td>2.059524e+06</td>\n",
              "      <td>0.066705</td>\n",
              "      <td>0.936490</td>\n",
              "    </tr>\n",
              "    <tr>\n",
              "      <th>Residual</th>\n",
              "      <td>4.0</td>\n",
              "      <td>1.235000e+08</td>\n",
              "      <td>3.087500e+07</td>\n",
              "      <td>NaN</td>\n",
              "      <td>NaN</td>\n",
              "    </tr>\n",
              "  </tbody>\n",
              "</table>\n",
              "</div>\n",
              "    <div class=\"colab-df-buttons\">\n",
              "\n",
              "  <div class=\"colab-df-container\">\n",
              "    <button class=\"colab-df-convert\" onclick=\"convertToInteractive('df-6788ee11-7ec4-4af9-ad01-96760cfe0c0d')\"\n",
              "            title=\"Convert this dataframe to an interactive table.\"\n",
              "            style=\"display:none;\">\n",
              "\n",
              "  <svg xmlns=\"http://www.w3.org/2000/svg\" height=\"24px\" viewBox=\"0 -960 960 960\">\n",
              "    <path d=\"M120-120v-720h720v720H120Zm60-500h600v-160H180v160Zm220 220h160v-160H400v160Zm0 220h160v-160H400v160ZM180-400h160v-160H180v160Zm440 0h160v-160H620v160ZM180-180h160v-160H180v160Zm440 0h160v-160H620v160Z\"/>\n",
              "  </svg>\n",
              "    </button>\n",
              "\n",
              "  <style>\n",
              "    .colab-df-container {\n",
              "      display:flex;\n",
              "      gap: 12px;\n",
              "    }\n",
              "\n",
              "    .colab-df-convert {\n",
              "      background-color: #E8F0FE;\n",
              "      border: none;\n",
              "      border-radius: 50%;\n",
              "      cursor: pointer;\n",
              "      display: none;\n",
              "      fill: #1967D2;\n",
              "      height: 32px;\n",
              "      padding: 0 0 0 0;\n",
              "      width: 32px;\n",
              "    }\n",
              "\n",
              "    .colab-df-convert:hover {\n",
              "      background-color: #E2EBFA;\n",
              "      box-shadow: 0px 1px 2px rgba(60, 64, 67, 0.3), 0px 1px 3px 1px rgba(60, 64, 67, 0.15);\n",
              "      fill: #174EA6;\n",
              "    }\n",
              "\n",
              "    .colab-df-buttons div {\n",
              "      margin-bottom: 4px;\n",
              "    }\n",
              "\n",
              "    [theme=dark] .colab-df-convert {\n",
              "      background-color: #3B4455;\n",
              "      fill: #D2E3FC;\n",
              "    }\n",
              "\n",
              "    [theme=dark] .colab-df-convert:hover {\n",
              "      background-color: #434B5C;\n",
              "      box-shadow: 0px 1px 3px 1px rgba(0, 0, 0, 0.15);\n",
              "      filter: drop-shadow(0px 1px 2px rgba(0, 0, 0, 0.3));\n",
              "      fill: #FFFFFF;\n",
              "    }\n",
              "  </style>\n",
              "\n",
              "    <script>\n",
              "      const buttonEl =\n",
              "        document.querySelector('#df-6788ee11-7ec4-4af9-ad01-96760cfe0c0d button.colab-df-convert');\n",
              "      buttonEl.style.display =\n",
              "        google.colab.kernel.accessAllowed ? 'block' : 'none';\n",
              "\n",
              "      async function convertToInteractive(key) {\n",
              "        const element = document.querySelector('#df-6788ee11-7ec4-4af9-ad01-96760cfe0c0d');\n",
              "        const dataTable =\n",
              "          await google.colab.kernel.invokeFunction('convertToInteractive',\n",
              "                                                    [key], {});\n",
              "        if (!dataTable) return;\n",
              "\n",
              "        const docLinkHtml = 'Like what you see? Visit the ' +\n",
              "          '<a target=\"_blank\" href=https://colab.research.google.com/notebooks/data_table.ipynb>data table notebook</a>'\n",
              "          + ' to learn more about interactive tables.';\n",
              "        element.innerHTML = '';\n",
              "        dataTable['output_type'] = 'display_data';\n",
              "        await google.colab.output.renderOutput(dataTable, element);\n",
              "        const docLink = document.createElement('div');\n",
              "        docLink.innerHTML = docLinkHtml;\n",
              "        element.appendChild(docLink);\n",
              "      }\n",
              "    </script>\n",
              "  </div>\n",
              "\n",
              "\n",
              "    <div id=\"df-176141cd-4155-4dfb-8f67-5626b7f357b5\">\n",
              "      <button class=\"colab-df-quickchart\" onclick=\"quickchart('df-176141cd-4155-4dfb-8f67-5626b7f357b5')\"\n",
              "                title=\"Suggest charts\"\n",
              "                style=\"display:none;\">\n",
              "\n",
              "<svg xmlns=\"http://www.w3.org/2000/svg\" height=\"24px\"viewBox=\"0 0 24 24\"\n",
              "     width=\"24px\">\n",
              "    <g>\n",
              "        <path d=\"M19 3H5c-1.1 0-2 .9-2 2v14c0 1.1.9 2 2 2h14c1.1 0 2-.9 2-2V5c0-1.1-.9-2-2-2zM9 17H7v-7h2v7zm4 0h-2V7h2v10zm4 0h-2v-4h2v4z\"/>\n",
              "    </g>\n",
              "</svg>\n",
              "      </button>\n",
              "\n",
              "<style>\n",
              "  .colab-df-quickchart {\n",
              "      --bg-color: #E8F0FE;\n",
              "      --fill-color: #1967D2;\n",
              "      --hover-bg-color: #E2EBFA;\n",
              "      --hover-fill-color: #174EA6;\n",
              "      --disabled-fill-color: #AAA;\n",
              "      --disabled-bg-color: #DDD;\n",
              "  }\n",
              "\n",
              "  [theme=dark] .colab-df-quickchart {\n",
              "      --bg-color: #3B4455;\n",
              "      --fill-color: #D2E3FC;\n",
              "      --hover-bg-color: #434B5C;\n",
              "      --hover-fill-color: #FFFFFF;\n",
              "      --disabled-bg-color: #3B4455;\n",
              "      --disabled-fill-color: #666;\n",
              "  }\n",
              "\n",
              "  .colab-df-quickchart {\n",
              "    background-color: var(--bg-color);\n",
              "    border: none;\n",
              "    border-radius: 50%;\n",
              "    cursor: pointer;\n",
              "    display: none;\n",
              "    fill: var(--fill-color);\n",
              "    height: 32px;\n",
              "    padding: 0;\n",
              "    width: 32px;\n",
              "  }\n",
              "\n",
              "  .colab-df-quickchart:hover {\n",
              "    background-color: var(--hover-bg-color);\n",
              "    box-shadow: 0 1px 2px rgba(60, 64, 67, 0.3), 0 1px 3px 1px rgba(60, 64, 67, 0.15);\n",
              "    fill: var(--button-hover-fill-color);\n",
              "  }\n",
              "\n",
              "  .colab-df-quickchart-complete:disabled,\n",
              "  .colab-df-quickchart-complete:disabled:hover {\n",
              "    background-color: var(--disabled-bg-color);\n",
              "    fill: var(--disabled-fill-color);\n",
              "    box-shadow: none;\n",
              "  }\n",
              "\n",
              "  .colab-df-spinner {\n",
              "    border: 2px solid var(--fill-color);\n",
              "    border-color: transparent;\n",
              "    border-bottom-color: var(--fill-color);\n",
              "    animation:\n",
              "      spin 1s steps(1) infinite;\n",
              "  }\n",
              "\n",
              "  @keyframes spin {\n",
              "    0% {\n",
              "      border-color: transparent;\n",
              "      border-bottom-color: var(--fill-color);\n",
              "      border-left-color: var(--fill-color);\n",
              "    }\n",
              "    20% {\n",
              "      border-color: transparent;\n",
              "      border-left-color: var(--fill-color);\n",
              "      border-top-color: var(--fill-color);\n",
              "    }\n",
              "    30% {\n",
              "      border-color: transparent;\n",
              "      border-left-color: var(--fill-color);\n",
              "      border-top-color: var(--fill-color);\n",
              "      border-right-color: var(--fill-color);\n",
              "    }\n",
              "    40% {\n",
              "      border-color: transparent;\n",
              "      border-right-color: var(--fill-color);\n",
              "      border-top-color: var(--fill-color);\n",
              "    }\n",
              "    60% {\n",
              "      border-color: transparent;\n",
              "      border-right-color: var(--fill-color);\n",
              "    }\n",
              "    80% {\n",
              "      border-color: transparent;\n",
              "      border-right-color: var(--fill-color);\n",
              "      border-bottom-color: var(--fill-color);\n",
              "    }\n",
              "    90% {\n",
              "      border-color: transparent;\n",
              "      border-bottom-color: var(--fill-color);\n",
              "    }\n",
              "  }\n",
              "</style>\n",
              "\n",
              "      <script>\n",
              "        async function quickchart(key) {\n",
              "          const quickchartButtonEl =\n",
              "            document.querySelector('#' + key + ' button');\n",
              "          quickchartButtonEl.disabled = true;  // To prevent multiple clicks.\n",
              "          quickchartButtonEl.classList.add('colab-df-spinner');\n",
              "          try {\n",
              "            const charts = await google.colab.kernel.invokeFunction(\n",
              "                'suggestCharts', [key], {});\n",
              "          } catch (error) {\n",
              "            console.error('Error during call to suggestCharts:', error);\n",
              "          }\n",
              "          quickchartButtonEl.classList.remove('colab-df-spinner');\n",
              "          quickchartButtonEl.classList.add('colab-df-quickchart-complete');\n",
              "        }\n",
              "        (() => {\n",
              "          let quickchartButtonEl =\n",
              "            document.querySelector('#df-176141cd-4155-4dfb-8f67-5626b7f357b5 button');\n",
              "          quickchartButtonEl.style.display =\n",
              "            google.colab.kernel.accessAllowed ? 'block' : 'none';\n",
              "        })();\n",
              "      </script>\n",
              "    </div>\n",
              "\n",
              "  <div id=\"id_9e078152-02c4-4805-be03-e26e5dcfe61c\">\n",
              "    <style>\n",
              "      .colab-df-generate {\n",
              "        background-color: #E8F0FE;\n",
              "        border: none;\n",
              "        border-radius: 50%;\n",
              "        cursor: pointer;\n",
              "        display: none;\n",
              "        fill: #1967D2;\n",
              "        height: 32px;\n",
              "        padding: 0 0 0 0;\n",
              "        width: 32px;\n",
              "      }\n",
              "\n",
              "      .colab-df-generate:hover {\n",
              "        background-color: #E2EBFA;\n",
              "        box-shadow: 0px 1px 2px rgba(60, 64, 67, 0.3), 0px 1px 3px 1px rgba(60, 64, 67, 0.15);\n",
              "        fill: #174EA6;\n",
              "      }\n",
              "\n",
              "      [theme=dark] .colab-df-generate {\n",
              "        background-color: #3B4455;\n",
              "        fill: #D2E3FC;\n",
              "      }\n",
              "\n",
              "      [theme=dark] .colab-df-generate:hover {\n",
              "        background-color: #434B5C;\n",
              "        box-shadow: 0px 1px 3px 1px rgba(0, 0, 0, 0.15);\n",
              "        filter: drop-shadow(0px 1px 2px rgba(0, 0, 0, 0.3));\n",
              "        fill: #FFFFFF;\n",
              "      }\n",
              "    </style>\n",
              "    <button class=\"colab-df-generate\" onclick=\"generateWithVariable('anova_result')\"\n",
              "            title=\"Generate code using this dataframe.\"\n",
              "            style=\"display:none;\">\n",
              "\n",
              "  <svg xmlns=\"http://www.w3.org/2000/svg\" height=\"24px\"viewBox=\"0 0 24 24\"\n",
              "       width=\"24px\">\n",
              "    <path d=\"M7,19H8.4L18.45,9,17,7.55,7,17.6ZM5,21V16.75L18.45,3.32a2,2,0,0,1,2.83,0l1.4,1.43a1.91,1.91,0,0,1,.58,1.4,1.91,1.91,0,0,1-.58,1.4L9.25,21ZM18.45,9,17,7.55Zm-12,3A5.31,5.31,0,0,0,4.9,8.1,5.31,5.31,0,0,0,1,6.5,5.31,5.31,0,0,0,4.9,4.9,5.31,5.31,0,0,0,6.5,1,5.31,5.31,0,0,0,8.1,4.9,5.31,5.31,0,0,0,12,6.5,5.46,5.46,0,0,0,6.5,12Z\"/>\n",
              "  </svg>\n",
              "    </button>\n",
              "    <script>\n",
              "      (() => {\n",
              "      const buttonEl =\n",
              "        document.querySelector('#id_9e078152-02c4-4805-be03-e26e5dcfe61c button.colab-df-generate');\n",
              "      buttonEl.style.display =\n",
              "        google.colab.kernel.accessAllowed ? 'block' : 'none';\n",
              "\n",
              "      buttonEl.onclick = () => {\n",
              "        google.colab.notebook.generateWithVariable('anova_result');\n",
              "      }\n",
              "      })();\n",
              "    </script>\n",
              "  </div>\n",
              "\n",
              "    </div>\n",
              "  </div>\n"
            ],
            "application/vnd.google.colaboratory.intrinsic+json": {
              "type": "dataframe",
              "variable_name": "anova_result",
              "summary": "{\n  \"name\": \"anova_result\",\n  \"rows\": 4,\n  \"fields\": [\n    {\n      \"column\": \"df\",\n      \"properties\": {\n        \"dtype\": \"number\",\n        \"std\": 1.2583057392117916,\n        \"min\": 1.0,\n        \"max\": 4.0,\n        \"num_unique_values\": 3,\n        \"samples\": [\n          1.0,\n          2.0,\n          4.0\n        ],\n        \"semantic_type\": \"\",\n        \"description\": \"\"\n      }\n    },\n    {\n      \"column\": \"sum_sq\",\n      \"properties\": {\n        \"dtype\": \"number\",\n        \"std\": 299889692.82208157,\n        \"min\": 4119047.619047571,\n        \"max\": 677580952.3809534,\n        \"num_unique_values\": 4,\n        \"samples\": [\n          677580952.3809534,\n          123500000.0,\n          144400000.0000002\n        ],\n        \"semantic_type\": \"\",\n        \"description\": \"\"\n      }\n    },\n    {\n      \"column\": \"mean_sq\",\n      \"properties\": {\n        \"dtype\": \"number\",\n        \"std\": 152743357.86370748,\n        \"min\": 2059523.8095237855,\n        \"max\": 338790476.1904767,\n        \"num_unique_values\": 4,\n        \"samples\": [\n          338790476.1904767,\n          30875000.0,\n          144400000.0000002\n        ],\n        \"semantic_type\": \"\",\n        \"description\": \"\"\n      }\n    },\n    {\n      \"column\": \"F\",\n      \"properties\": {\n        \"dtype\": \"number\",\n        \"std\": 5.474805284696807,\n        \"min\": 0.06670522459996066,\n        \"max\": 10.97297088876038,\n        \"num_unique_values\": 3,\n        \"samples\": [\n          4.676923076923083,\n          10.97297088876038,\n          0.06670522459996066\n        ],\n        \"semantic_type\": \"\",\n        \"description\": \"\"\n      }\n    },\n    {\n      \"column\": \"PR(>F)\",\n      \"properties\": {\n        \"dtype\": \"number\",\n        \"std\": 0.5072430008030717,\n        \"min\": 0.023767368747948922,\n        \"max\": 0.9364895090777463,\n        \"num_unique_values\": 3,\n        \"samples\": [\n          0.09660515864819376,\n          0.023767368747948922,\n          0.9364895090777463\n        ],\n        \"semantic_type\": \"\",\n        \"description\": \"\"\n      }\n    }\n  ]\n}"
            }
          },
          "metadata": {},
          "execution_count": 28
        }
      ]
    },
    {
      "cell_type": "markdown",
      "source": [
        "### **Chi-2 Test**\n",
        "\n",
        "The Chi-Square (χ²) Test is a statistical method used to compare observed frequencies with expected frequencies to determine if there is a significant association between categorical variables."
      ],
      "metadata": {
        "id": "RXzR2th0oap6"
      }
    },
    {
      "cell_type": "code",
      "source": [
        "import pandas as pd\n",
        "from scipy.stats import chi2_contingency\n",
        "\n",
        "# Create contingency table\n",
        "data = [[30, 20],  # Men\n",
        "        [25, 25]]  # Women\n",
        "alpha = 0.05\n",
        "table = pd.DataFrame(data, columns=[\"Tea\", \"Coffee\"], index=[\"Men\", \"Women\"])\n",
        "\n",
        "# Perform Chi-Square Test\n",
        "chi2, p, dof, expected = chi2_contingency(table)\n",
        "\n",
        "print(\"Chi-Square Statistic:\", chi2)\n",
        "print(\"Degrees of Freedom:\", dof)\n",
        "print(\"P-Value:\", p)\n",
        "print(\"Expected Frequencies:\\n\", expected)\n",
        "\n",
        "if p_value < alpha:\n",
        "    print(\"Reject H0 Hyp : there is sig diff in ob and ex\")\n",
        "else:\n",
        "    print(\"Accept H0 Hyp: there is no sig diff in ob and ex\")"
      ],
      "metadata": {
        "colab": {
          "base_uri": "https://localhost:8080/"
        },
        "id": "Qz81kJa4oW6A",
        "outputId": "ce439cdb-4a84-45d2-948f-7701e4c8a738"
      },
      "execution_count": null,
      "outputs": [
        {
          "output_type": "stream",
          "name": "stdout",
          "text": [
            "Chi-Square Statistic: 0.6464646464646464\n",
            "Degrees of Freedom: 1\n",
            "P-Value: 0.4213795037428696\n",
            "Expected Frequencies:\n",
            " [[27.5 22.5]\n",
            " [27.5 22.5]]\n",
            "Accept H0 Hyp: there is no sig diff in ob and ex\n"
          ]
        }
      ]
    },
    {
      "cell_type": "code",
      "source": [],
      "metadata": {
        "id": "rG6vb3xgo5X9"
      },
      "execution_count": null,
      "outputs": []
    },
    {
      "cell_type": "code",
      "metadata": {
        "colab": {
          "base_uri": "https://localhost:8080/"
        },
        "id": "bc280a17",
        "outputId": "6c65e4b1-0d8a-4fbb-ee1e-afe6be23517b"
      },
      "source": [
        "import pandas as pd\n",
        "from scipy.stats import chi2_contingency\n",
        "\n",
        "# Create contingency table\n",
        "data = [[30, 20],  # Men\n",
        "        [25, 25]]  # Women\n",
        "alpha = 0.05\n",
        "table = pd.DataFrame(data, columns=[\"Tea\", \"Coffee\"], index=[\"Men\", \"Women\"])\n",
        "\n",
        "# Perform Chi-Square Test\n",
        "chi2, p, dof, expected = chi2_contingency(table)\n",
        "\n",
        "print(\"Chi-Square Statistic:\", chi2)\n",
        "print(\"Degrees of Freedom:\", dof)\n",
        "print(\"P-Value:\", p)\n",
        "print(\"Expected Frequencies:\\n\", expected)\n",
        "\n",
        "if p < alpha: # Corrected comparison here\n",
        "    print(\"Reject H0 Hyp : there is sig diff in ob and ex\")\n",
        "else:\n",
        "    print(\"Accept H0 Hyp: there is no sig diff in ob and ex\")"
      ],
      "execution_count": null,
      "outputs": [
        {
          "output_type": "stream",
          "name": "stdout",
          "text": [
            "Chi-Square Statistic: 0.6464646464646464\n",
            "Degrees of Freedom: 1\n",
            "P-Value: 0.4213795037428696\n",
            "Expected Frequencies:\n",
            " [[27.5 22.5]\n",
            " [27.5 22.5]]\n",
            "Accept H0 Hyp: there is no sig diff in ob and ex\n"
          ]
        }
      ]
    }
  ]
}