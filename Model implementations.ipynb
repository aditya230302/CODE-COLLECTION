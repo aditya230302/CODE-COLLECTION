{
 "cells": [
  {
   "cell_type": "code",
   "execution_count": 13,
   "id": "c78f049b-4e53-4e5e-ab1c-d40003a43e72",
   "metadata": {},
   "outputs": [],
   "source": [
    "from sklearn.model_selection import train_test_split, GridSearchCV, RandomizedSearchCV\n",
    "from sklearn.linear_model import LogisticRegression, LinearRegression, Ridge, Lasso\n",
    "from sklearn.tree import DecisionTreeClassifier, DecisionTreeRegressor\n",
    "from sklearn.ensemble import RandomForestClassifier, RandomForestRegressor\n",
    "from sklearn.svm import SVC\n",
    "#import xgboost as xgb\n",
    "import numpy as np\n",
    "# import tensorflow as tf\n",
    "# from tensorflow import keras\n",
    "# from tensorflow.keras import layers\n",
    "\n",
    "# Load dataset (example using synthetic data)\n",
    "from sklearn.datasets import make_classification, make_regression\n",
    "\n",
    "X_class, y_class = make_classification(n_samples=500, n_features=10, random_state=42)\n",
    "X_train_class, X_test_class, y_train_class, y_test_class = train_test_split(X_class, y_class, test_size=0.2, random_state=42)\n",
    "\n",
    "X_reg, y_reg = make_regression(n_samples=500, n_features=10, random_state=42)\n",
    "X_train_reg, X_test_reg, y_train_reg, y_test_reg = train_test_split(X_reg, y_reg, test_size=0.2, random_state=42)\n"
   ]
  },
  {
   "cell_type": "markdown",
   "id": "f9d657f3-4273-4281-95de-c957cab256d8",
   "metadata": {},
   "source": [
    "---\n",
    "## **CLASSIFICATION MODELS**\n",
    "---"
   ]
  },
  {
   "cell_type": "code",
   "execution_count": 14,
   "id": "83f9b92f-f117-44fd-940f-e5a3794821f2",
   "metadata": {},
   "outputs": [
    {
     "name": "stdout",
     "output_type": "stream",
     "text": [
      "Logistic Regression Score: 0.88\n",
      "Decision Tree Score: 0.93\n",
      "Best Params for Decision Tree: {'max_depth': 3, 'min_samples_split': 5}\n",
      "Random Forest Score: 0.94\n",
      "SVM Score: 0.88\n"
     ]
    }
   ],
   "source": [
    "# ---- CLASSIFICATION MODELS ---- #\n",
    "\n",
    "# Logistic Regression\n",
    "from sklearn.linear_model import LogisticRegression, LinearRegression, Ridge, Lasso\n",
    "log_reg = LogisticRegression()\n",
    "log_reg.fit(X_train_class, y_train_class)\n",
    "print(\"Logistic Regression Score:\", log_reg.score(X_test_class, y_test_class))\n",
    "\n",
    "# Decision Tree Classifier\n",
    "from sklearn.tree import DecisionTreeClassifier\n",
    "dt_class = DecisionTreeClassifier(max_depth=5, min_samples_split=10)\n",
    "dt_class.fit(X_train_class, y_train_class)\n",
    "print(\"Decision Tree Score:\", dt_class.score(X_test_class, y_test_class))\n",
    "\n",
    "# ---- HYPERPARAMETER TUNING ---- #\n",
    "\n",
    "param_grid = {\n",
    "    'max_depth': [3, 5, 7],\n",
    "    'min_samples_split': [2, 5, 10]\n",
    "}\n",
    "grid_search = GridSearchCV(DecisionTreeClassifier(), param_grid, cv=3)\n",
    "grid_search.fit(X_train_class, y_train_class)\n",
    "print(\"Best Params for Decision Tree:\", grid_search.best_params_)\n",
    "\n",
    "# Random Forest Classifier\n",
    "from sklearn.ensemble import RandomForestClassifier\n",
    "rf_class = RandomForestClassifier(n_estimators=100, max_depth=5)\n",
    "rf_class.fit(X_train_class, y_train_class)\n",
    "print(\"Random Forest Score:\", rf_class.score(X_test_class, y_test_class))\n",
    "\n",
    "# SVM Classifier\n",
    "svm_class = SVC(kernel='rbf', C=1.0)\n",
    "svm_class.fit(X_train_class, y_train_class)\n",
    "print(\"SVM Score:\", svm_class.score(X_test_class, y_test_class))\n",
    "\n",
    "# XGBoost Classifier\n",
    "# xgb_class = xgb.XGBClassifier(n_estimators=100, learning_rate=0.1, max_depth=5)\n",
    "# xgb_class.fit(X_train_class, y_train_class)\n",
    "# print(\"XGBoost Score:\", xgb_class.score(X_test_class, y_test_class))"
   ]
  },
  {
   "cell_type": "markdown",
   "id": "29d7b5e4-9a19-425e-ac37-a9d09fd91391",
   "metadata": {},
   "source": [
    "---\n",
    "## **REGRESSION MODELS**\n",
    "---"
   ]
  },
  {
   "cell_type": "code",
   "execution_count": 15,
   "id": "ec88bc0c-44f2-4e18-b7eb-f57fb2ed49c5",
   "metadata": {},
   "outputs": [
    {
     "name": "stdout",
     "output_type": "stream",
     "text": [
      "Linear Regression Score: 1.0\n",
      "Ridge Regression Score: 0.9999932725879318\n",
      "Lasso Regression Score: 0.9999939113283837\n",
      "Decision Tree Regression Score: 0.4658927808498371\n",
      "Random Forest Regression Score: 0.725479071809065\n"
     ]
    }
   ],
   "source": [
    "# ---- REGRESSION MODELS ---- #\n",
    "\n",
    "# Linear Regression\n",
    "from sklearn.linear_model import LinearRegression\n",
    "lin_reg = LinearRegression()\n",
    "lin_reg.fit(X_train_reg, y_train_reg)\n",
    "print(\"Linear Regression Score:\", lin_reg.score(X_test_reg, y_test_reg))\n",
    "\n",
    "# Ridge Regression\n",
    "from sklearn.linear_model import Ridge\n",
    "ridge_reg = Ridge(alpha=1.0)\n",
    "ridge_reg.fit(X_train_reg, y_train_reg)\n",
    "print(\"Ridge Regression Score:\", ridge_reg.score(X_test_reg, y_test_reg))\n",
    "\n",
    "# Lasso Regression\n",
    "from sklearn.linear_model import Lasso\n",
    "lasso_reg = Lasso(alpha=0.1)\n",
    "lasso_reg.fit(X_train_reg, y_train_reg)\n",
    "print(\"Lasso Regression Score:\", lasso_reg.score(X_test_reg, y_test_reg))\n",
    "\n",
    "# Decision Tree Regressor\n",
    "from sklearn.tree import DecisionTreeRegressor\n",
    "dt_reg = DecisionTreeRegressor(max_depth=5)\n",
    "dt_reg.fit(X_train_reg, y_train_reg)\n",
    "print(\"Decision Tree Regression Score:\", dt_reg.score(X_test_reg, y_test_reg))\n",
    "\n",
    "# Random Forest Regressor\n",
    "from sklearn.ensemble import RandomForestRegressor\n",
    "rf_reg = RandomForestRegressor(n_estimators=100, max_depth=5)\n",
    "rf_reg.fit(X_train_reg, y_train_reg)\n",
    "print(\"Random Forest Regression Score:\", rf_reg.score(X_test_reg, y_test_reg))\n",
    "\n",
    "# XGBoost Regressor\n",
    "# xgb_reg = xgb.XGBRegressor(n_estimators=100, learning_rate=0.1, max_depth=5)\n",
    "# xgb_reg.fit(X_train_reg, y_train_reg)\n",
    "# print(\"XGBoost Regression Score:\", xgb_reg.score(X_test_reg, y_test_reg))"
   ]
  },
  {
   "cell_type": "markdown",
   "id": "95297387-d245-4397-9de6-0e8d8657ee44",
   "metadata": {},
   "source": [
    "### **linear Regression**"
   ]
  },
  {
   "cell_type": "code",
   "execution_count": 16,
   "id": "c17e095d-93b0-4399-a746-3d7c1db90e84",
   "metadata": {},
   "outputs": [],
   "source": [
    "# linear Regression\n",
    "from sklearn.linear_model import LinearRegression\n",
    "\n",
    "model = LinearRegression(\n",
    "    fit_intercept=True,  # Whether to calculate the intercept\n",
    "    #normalize='deprecated',  # Feature normalization (deprecated)\n",
    "    copy_X=True,  # Whether to copy the input data\n",
    ")\n"
   ]
  },
  {
   "cell_type": "markdown",
   "id": "2580ce08-a881-4282-b97d-91864315ba26",
   "metadata": {},
   "source": [
    "## **Decision Tree**"
   ]
  },
  {
   "cell_type": "code",
   "execution_count": 17,
   "id": "c4873a36-cffb-4658-81ed-b08fa5f7559f",
   "metadata": {},
   "outputs": [],
   "source": [
    "# Decision Tree\n",
    "from sklearn.tree import DecisionTreeRegressor\n",
    "\n",
    "model = DecisionTreeRegressor(\n",
    "    criterion='squared_error',  # Loss function: ‘squared_error’, ‘friedman_mse’, etc.\n",
    "    max_depth=10,  # Max depth of the tree\n",
    "    min_samples_split=5,  # Minimum samples required to split a node\n",
    "    min_samples_leaf=2,  # Minimum samples required in a leaf\n",
    ")\n"
   ]
  },
  {
   "cell_type": "markdown",
   "id": "96e95f04-5292-4b72-8865-751a7a9ba291",
   "metadata": {},
   "source": [
    "## **Random Forest**"
   ]
  },
  {
   "cell_type": "code",
   "execution_count": 18,
   "id": "33d2c3c8-bee6-4618-86cb-3eaf46d4a329",
   "metadata": {},
   "outputs": [],
   "source": [
    "# Random Forest\n",
    "\n",
    "from sklearn.ensemble import RandomForestRegressor\n",
    "\n",
    "model = RandomForestRegressor(\n",
    "    n_estimators=100,  # Number of trees\n",
    "    max_depth=10,  # Maximum depth of the tree\n",
    "    min_samples_split=5,  # Minimum samples required to split a node\n",
    "    min_samples_leaf=2,  # Minimum samples required in a leaf\n",
    "    random_state=42,\n",
    ")\n"
   ]
  },
  {
   "cell_type": "markdown",
   "id": "ebf49a9d-3f22-4398-80a0-f3b8edc732e7",
   "metadata": {},
   "source": [
    "## **SVR**"
   ]
  },
  {
   "cell_type": "code",
   "execution_count": 19,
   "id": "57e46038-da2e-481e-b928-58e08b1a13c2",
   "metadata": {},
   "outputs": [],
   "source": [
    "#SVR\n",
    "from sklearn.svm import SVR\n",
    "\n",
    "model = SVR(\n",
    "    kernel='rbf',  # Kernel type: ‘linear’, ‘poly’, ‘rbf’, ‘sigmoid’\n",
    "    C=1.0,  # Regularization parameter\n",
    "    epsilon=0.1,  # Tolerance for error margin\n",
    "    gamma='scale',  # Kernel coefficient\n",
    ")\n"
   ]
  },
  {
   "cell_type": "code",
   "execution_count": null,
   "id": "690a5b1e-b304-46ad-871c-eed31d26baaf",
   "metadata": {},
   "outputs": [],
   "source": [
    "# ---- DEEP LEARNING MODEL (MLP) ---- #\n",
    "\n",
    "model = keras.Sequential([\n",
    "    layers.Dense(64, activation='relu', input_shape=(10,)),\n",
    "    layers.Dense(32, activation='relu'),\n",
    "    layers.Dense(1, activation='sigmoid')\n",
    "])\n",
    "\n",
    "model.compile(optimizer='adam', loss='binary_crossentropy', metrics=['accuracy'])\n",
    "model.fit(X_train_class, y_train_class, epochs=10, batch_size=16, verbose=1)\n",
    "print(\"Deep Learning Model Accuracy:\", model.evaluate(X_test_class, y_test_class, verbose=0)[1])"
   ]
  }
 ],
 "metadata": {
  "kernelspec": {
   "display_name": "Python 3 (ipykernel)",
   "language": "python",
   "name": "python3"
  },
  "language_info": {
   "codemirror_mode": {
    "name": "ipython",
    "version": 3
   },
   "file_extension": ".py",
   "mimetype": "text/x-python",
   "name": "python",
   "nbconvert_exporter": "python",
   "pygments_lexer": "ipython3",
   "version": "3.12.4"
  }
 },
 "nbformat": 4,
 "nbformat_minor": 5
}
