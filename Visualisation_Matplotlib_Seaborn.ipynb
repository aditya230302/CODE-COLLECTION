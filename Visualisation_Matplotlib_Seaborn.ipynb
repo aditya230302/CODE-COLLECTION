{
 "cells": [
  {
   "cell_type": "markdown",
   "id": "f06188a3-2372-4b79-8e92-2ec5020bcc9f",
   "metadata": {},
   "source": [
    "# **Graph Types in Matplotlib and Seaborn:**\n",
    "\n",
    "---\n",
    "\n",
    "| **Graph Type** | **Matplotlib** | **Seaborn**  |\n",
    "| --- | --- | --- |\n",
    "| **Basic Plots** |  |   |\n",
    "| **Line plot** | plt.plot() | sns.lineplot()  |\n",
    "| **Bar plot** | plt.bar() | sns.barplot()  |\n",
    "| **Histogram** | plt.hist() | sns.histplot()  |\n",
    "| **Pie chart** | plt.pie() | Not directly available, less common in Seaborn  |\n",
    "| **Scatter plot** | plt.scatter() | sns.scatterplot()  |\n",
    "| **Heatmap** | plt.imshow() | sns.heatmap()  |\n",
    "| **Count plot** | Can be created using plt.hist() | sns.countplot()  |\n",
    "| **Area Chart** | plt.fill_between() | sns.lineplot() with filled area |\n",
    "| **Box plot** | plt.boxplot() | sns.boxplot()  |\n",
    "| **Violin plot** | Not directly available | sns.violinplot()  |\n",
    "| **KDE plot** | Available through scipy.stats.kde | sns.kdeplot()  |\n",
    "| **Pair plot** | Not directly available | sns.pairplot()  |\n",
    "| **3D Plots** | mpl_toolkits.mplot3d | Not directly available  |\n",
    "| **Distribution Plots** | — | —  |\n",
    "| **Relationship Plots** | — | —  |\n",
    "| **Categorical Plots** | — | —  |\n",
    "\n",
    "Matplotlib offers more fine-grained control and a wider array of customization options for each plot type. Seaborn, built on top of Matplotlib, provides a higher-level interface with visually appealing default styles and statistical functions. It focuses on informative and aesthetically pleasing visualizations, especially for statistical analysis. "
   ]
  },
  {
   "cell_type": "code",
   "execution_count": null,
   "id": "85f063e5-ceda-4ac8-8e0d-fa9b9713ccfe",
   "metadata": {},
   "outputs": [],
   "source": []
  }
 ],
 "metadata": {
  "kernelspec": {
   "display_name": "Python 3 (ipykernel)",
   "language": "python",
   "name": "python3"
  },
  "language_info": {
   "codemirror_mode": {
    "name": "ipython",
    "version": 3
   },
   "file_extension": ".py",
   "mimetype": "text/x-python",
   "name": "python",
   "nbconvert_exporter": "python",
   "pygments_lexer": "ipython3",
   "version": "3.12.4"
  }
 },
 "nbformat": 4,
 "nbformat_minor": 5
}
