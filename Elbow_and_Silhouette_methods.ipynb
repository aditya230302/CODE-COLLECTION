{
 "cells": [
  {
   "cell_type": "markdown",
   "id": "67dec0f9-e399-40bf-91d3-e381227861bb",
   "metadata": {},
   "source": [
    "# **Elbow Method**"
   ]
  },
  {
   "cell_type": "markdown",
   "id": "449e711f-ad33-4747-8e67-b54bea723532",
   "metadata": {},
   "source": [
    "```python\n",
    "\n",
    "ssd = []\n",
    "for k in k_values:\n",
    "    km = KMeans(n_clusters = k, random_state = 32)\n",
    "    km.fit(df)\n",
    "    ssd.append(km.inertia_)\n",
    "\n",
    "plt.plot(k_values,ssd)\n",
    "plt.title('Elbow Method - Optimal number of clusters')\n",
    "plt.xlabel('Number of Clusters (k)')\n",
    "plt.ylabel('Inertia')\n",
    "plt.grid(True)\n",
    "plt.show()\n",
    "```"
   ]
  },
  {
   "cell_type": "markdown",
   "id": "4536fba0-0851-41cb-ade6-5e5d940c3437",
   "metadata": {},
   "source": [
    "# **Silhouette Score**"
   ]
  },
  {
   "cell_type": "markdown",
   "id": "f0ed8dcf-138c-4ae6-9cc2-b31793faaf8f",
   "metadata": {},
   "source": [
    "```python\n",
    "from sklearn .metrics import silhouette_score\n",
    "\n",
    "k_values = range(2,8)\n",
    "\n",
    "silhouette_scores=[]\n",
    "\n",
    "for k in k_values:\n",
    "  kmeans=KMeans(n_clusters=k,random_state=32)\n",
    "  kmeans.fit(df_scaled)\n",
    "\n",
    "  silhouette_avg=silhouette_score(df_scaled, kmeans.labels_)\n",
    "  silhouette_scores.append(silhouette_avg)\n",
    "\n",
    "plt.subplot(1,2,2)\n",
    "plt.plot(k_values,silhouette_scores,marker='o',color='green')\n",
    "\n",
    "\n",
    "for k in k_values:\n",
    "  km = KMeans(n_clusters=k, max_iter=150, random_state=32)\n",
    "  km.fit(df_scaled)\n",
    "  silhouette_scores.append(silhouette_score(df_scaled,km.labels_))\n",
    "  print(f\"Silhouette score for k={k}: {silhouette_scores[-1]}\")\n",
    "```"
   ]
  },
  {
   "cell_type": "markdown",
   "id": "6789a261-2975-4093-b25f-b67ee6a3541a",
   "metadata": {},
   "source": [
    "---\n",
    "\n",
    "## 📘 Definitions\n",
    "\n",
    "### 🔹 **Elbow Method**\n",
    "- **Purpose**: To find the optimal number of clusters `k` by plotting the **Within-Cluster Sum of Squares (WCSS)** against various values of `k`.\n",
    "- **Logic**: As `k` increases, WCSS decreases. The point at which the rate of decrease sharply shifts (\"elbow\") indicates the optimal `k`.\n",
    "\n",
    "### 🔹 **Silhouette Method**\n",
    "- **Purpose**: Measures how similar a data point is to its own cluster vs. other clusters.\n",
    "- **Metric**: **Silhouette Coefficient** (ranges from -1 to 1):\n",
    "  - **+1**: Data point is well matched to its own cluster and poorly matched to others.\n",
    "  - **0**: Borderline.\n",
    "  - **-1**: Incorrectly assigned.\n",
    "---\n"
   ]
  },
  {
   "cell_type": "markdown",
   "id": "88a30db8-f539-40f7-833c-e7830e7da814",
   "metadata": {},
   "source": [
    "---\n",
    "\n",
    "### 📊 **Comparison Table: Elbow Method vs. Silhouette Method**\n",
    "\n",
    "| **Aspect**                | **Elbow Method**                             | **Silhouette Method**                          |\n",
    "|---------------------------|-----------------------------------------------|------------------------------------------------|\n",
    "| **Purpose**               | Finds optimal `k` by minimizing WCSS          | Finds optimal `k` by maximizing silhouette score |\n",
    "| **Metric Used**           | WCSS (Within-Cluster Sum of Squares)          | Silhouette Coefficient                         |\n",
    "| **Range of `k`**          | Can include `k=1`                             | Must start from `k=2` (undefined for `k=1`)     |\n",
    "| **Plot Characteristic**   | Sharp \"elbow\" point where WCSS decrease slows | Peak point where silhouette score is highest    |\n",
    "| **Best `k` Selection**    | Where WCSS reduction slows significantly      | Where silhouette score is highest               |\n",
    "| **Interpretability**      | Visual and subjective                         | More quantitative and objective                 |\n",
    "| **Cluster Quality Insight**| Does not provide insight into separation     | Provides insight into cohesion & separation     |\n",
    "| **Computation Time**      | Faster (only requires inertia)                | Slightly slower (needs pairwise distances)      |\n",
    "| **Robustness**            | May be ambiguous if elbow is not clear        | More robust to variations in data               |\n",
    "| **Common Use Case**       | Quick estimation of cluster count             | More precise evaluation of cluster quality      |\n",
    "\n",
    "---\n",
    "\n",
    "### ✅ Summary Use Cases\n",
    "\n",
    "| **Scenario**                             | **Recommended Method**      |\n",
    "|------------------------------------------|-----------------------------|\n",
    "| Want fast estimation of cluster number   | Elbow Method                |\n",
    "| Want to evaluate cluster quality         | Silhouette Method           |\n",
    "| Clusters may not be well-separated       | Silhouette Method           |\n",
    "| Data has a very obvious elbow            | Elbow Method                |\n",
    "| Need numerical validation                | Silhouette Method           |\n",
    "\n",
    "---"
   ]
  },
  {
   "cell_type": "code",
   "execution_count": null,
   "id": "0c7d99f2-9abd-4c64-8779-7105a7d9a32c",
   "metadata": {},
   "outputs": [],
   "source": []
  }
 ],
 "metadata": {
  "kernelspec": {
   "display_name": "Python 3 (ipykernel)",
   "language": "python",
   "name": "python3"
  },
  "language_info": {
   "codemirror_mode": {
    "name": "ipython",
    "version": 3
   },
   "file_extension": ".py",
   "mimetype": "text/x-python",
   "name": "python",
   "nbconvert_exporter": "python",
   "pygments_lexer": "ipython3",
   "version": "3.12.4"
  }
 },
 "nbformat": 4,
 "nbformat_minor": 5
}
