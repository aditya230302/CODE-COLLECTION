{
 "cells": [
  {
   "cell_type": "code",
   "execution_count": null,
   "id": "d9a2217c-3b8e-40dc-86e0-783358348007",
   "metadata": {},
   "outputs": [],
   "source": [
    "le = LabelEncoder()\n",
    "for i in df.columns:\n",
    "    if df[i].dtype == 'object':\n",
    "        df[i] = le.fit_transform(df[i])\n",
    "        print(f'Column Name : {i}')\n",
    "        print(\"Original ---> Encoded\")\n",
    "        for original_class,encoded_value in zip(le.classes_,le.transform(le.classes_)):\n",
    "            print(f'{original_class}->{encoded_value}')\n",
    "        print()"
   ]
  }
 ],
 "metadata": {
  "kernelspec": {
   "display_name": "Python 3 (ipykernel)",
   "language": "python",
   "name": "python3"
  },
  "language_info": {
   "codemirror_mode": {
    "name": "ipython",
    "version": 3
   },
   "file_extension": ".py",
   "mimetype": "text/x-python",
   "name": "python",
   "nbconvert_exporter": "python",
   "pygments_lexer": "ipython3",
   "version": "3.12.4"
  }
 },
 "nbformat": 4,
 "nbformat_minor": 5
}
