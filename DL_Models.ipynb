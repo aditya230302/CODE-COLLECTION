{
  "nbformat": 4,
  "nbformat_minor": 0,
  "metadata": {
    "colab": {
      "provenance": []
    },
    "kernelspec": {
      "name": "python3",
      "display_name": "Python 3"
    },
    "language_info": {
      "name": "python"
    }
  },
  "cells": [
    {
      "cell_type": "markdown",
      "source": [
        "### **SLP : Single Layer Perceptron**"
      ],
      "metadata": {
        "id": "TWwNpKuQxRix"
      }
    },
    {
      "cell_type": "code",
      "source": [
        "import numpy as np\n",
        "import matplotlib.pyplot as plt\n",
        "\n",
        "# === Step Activation Function ===\n",
        "def activation_function(x):\n",
        "    return np.where(x >= 0, 1, 0)\n",
        "\n",
        "# === Single Layer Perceptron ===\n",
        "class SingleLayerPerceptron:\n",
        "    def __init__(self, input_size, weight, bias, learning_rate, epochs):\n",
        "        self.w = weight\n",
        "        self.b = bias\n",
        "        self.lr = learning_rate\n",
        "        self.epochs = epochs\n",
        "        self.errors_per_epoch = []\n",
        "        self.accuracy_per_epoch = []\n",
        "\n",
        "    def predict(self, x):\n",
        "        output = np.dot(x, self.w) + self.b\n",
        "        return activation_function(output)\n",
        "\n",
        "    def fit(self, X, y):\n",
        "        for epoch in range(1, self.epochs + 1):\n",
        "            errors = 0\n",
        "            for input, target in zip(X, y):\n",
        "                prediction = self.predict(input)\n",
        "                error = target - prediction\n",
        "                if error != 0:\n",
        "                    errors += 1\n",
        "                self.w = self.w + self.lr * error * input\n",
        "                self.b = self.b + self.lr * error\n",
        "            acc = np.mean([self.predict(xi) == yi for xi, yi in zip(X, y)])\n",
        "            self.errors_per_epoch.append(errors)\n",
        "            self.accuracy_per_epoch.append(acc)\n",
        "            if epoch % 10 == 0:\n",
        "                print(f\"Epoch {epoch}: Accuracy = {acc:.2f}, Errors = {errors}\")\n",
        "\n",
        "# === Dataset ===\n",
        "X = np.array([\n",
        "    [2, 1],\n",
        "    [1, -1],\n",
        "    [-1, -2],\n",
        "    [-2, 1]\n",
        "])\n",
        "y = np.array([1, 0, 0, 1])\n",
        "\n",
        "# === Hyperparameters ===\n",
        "input_size = X.shape[1]\n",
        "weight = np.array([0.5, -0.5])\n",
        "bias = 0.1\n",
        "learning_rate = 0.01\n",
        "epochs = 50\n",
        "\n",
        "# === Train the model ===\n",
        "model = SingleLayerPerceptron(input_size, weight, bias, learning_rate, epochs)\n",
        "model.fit(X, y)\n",
        "\n",
        "# === Predictions ===\n",
        "print(\"\\nPredictions on training data with true labels:\")\n",
        "for sample, true_label in zip(X, y):\n",
        "    prediction = model.predict(sample)\n",
        "    print(f\"{sample} → {prediction} : {true_label}\")\n",
        "\n",
        "print(\"\\nBatch predictions:\", model.predict(X))"
      ],
      "metadata": {
        "colab": {
          "base_uri": "https://localhost:8080/"
        },
        "id": "p2XWDLP46NZg",
        "outputId": "2b735738-fbf7-45dc-ca5e-22a29d553958"
      },
      "execution_count": 44,
      "outputs": [
        {
          "output_type": "stream",
          "name": "stdout",
          "text": [
            "Epoch 10: Accuracy = 0.50, Errors = 2\n",
            "Epoch 20: Accuracy = 1.00, Errors = 0\n",
            "Epoch 30: Accuracy = 1.00, Errors = 0\n",
            "Epoch 40: Accuracy = 1.00, Errors = 0\n",
            "Epoch 50: Accuracy = 1.00, Errors = 0\n",
            "\n",
            "Predictions on training data with true labels:\n",
            "[2 1] → 1 : 1\n",
            "[ 1 -1] → 0 : 0\n",
            "[-1 -2] → 0 : 0\n",
            "[-2  1] → 1 : 1\n",
            "\n",
            "Batch predictions: [1 0 0 1]\n"
          ]
        }
      ]
    },
    {
      "cell_type": "code",
      "source": [
        "# === Plot errors and accuracy ===\n",
        "fig, ax1 = plt.subplots(figsize=(10, 3))\n",
        "\n",
        "color = 'tab:red'\n",
        "ax1.set_xlabel('Epoch')\n",
        "ax1.set_ylabel('Total Errors', color=color)\n",
        "ax1.plot(range(1, epochs + 1), model.errors_per_epoch, marker='o', color=color, label='Errors')\n",
        "ax1.tick_params(axis='y', labelcolor=color)\n",
        "ax1.set_ylim(bottom=0)\n",
        "\n",
        "ax2 = ax1.twinx()\n",
        "color = 'darkgreen'\n",
        "ax2.set_ylabel('Accuracy', color=color)\n",
        "ax2.plot(range(1, epochs + 1), model.accuracy_per_epoch, marker='s', color=color, label='Accuracy')\n",
        "ax2.tick_params(axis='y', labelcolor=color)\n",
        "ax2.set_ylim(0, 1.05)\n",
        "\n",
        "plt.title(\"Perceptron Training - Errors & Accuracy per Epoch\")\n",
        "fig.tight_layout()\n",
        "plt.grid(True)\n",
        "plt.show()"
      ],
      "metadata": {
        "colab": {
          "base_uri": "https://localhost:8080/",
          "height": 307
        },
        "id": "hjrTfgG8BQi9",
        "outputId": "209f400b-934c-4bbf-9757-399fec3d7081"
      },
      "execution_count": 41,
      "outputs": [
        {
          "output_type": "display_data",
          "data": {
            "text/plain": [
              "<Figure size 1000x300 with 2 Axes>"
            ],
            "image/png": "[encoded data removed]"
          },
          "metadata": {}
        }
      ]
    },
    {
      "cell_type": "markdown",
      "source": [
        "### **Pre-Build SLP**"
      ],
      "metadata": {
        "id": "c4XmD0yHPBmE"
      }
    },
    {
      "cell_type": "code",
      "source": [
        "from sklearn.datasets import make_classification\n",
        "from sklearn.model_selection import train_test_split\n",
        "from sklearn.linear_model import Perceptron\n",
        "from sklearn.metrics import accuracy_score, classification_report\n",
        "\n",
        "# === Create a Binary Classification Dataset ===\n",
        "X = np.array([\n",
        "    [2, 1],\n",
        "    [1, -1],\n",
        "    [-1, -2],\n",
        "    [-2, 1]\n",
        "])\n",
        "y = np.array([1, 0, 0, 1])\n",
        "\n",
        "# === Train-test split ===\n",
        "X_train, X_test, y_train, y_test = train_test_split(X, y, test_size=0.2, random_state=42)\n",
        "\n",
        "# === Initialize Prebuilt Single Layer Perceptron ===\n",
        "model = Perceptron(max_iter=1000, eta0=0.1, random_state=42)\n",
        "\n",
        "# === Train the model ===\n",
        "model.fit(X_train, y_train)\n",
        "\n",
        "# === Predict ===\n",
        "y_pred = model.predict(X_test)\n",
        "\n",
        "# === Evaluate ===\n",
        "print(\"Accuracy:\", accuracy_score(y_test, y_pred))\n",
        "print(classification_report(y_test, y_pred))\n"
      ],
      "metadata": {
        "colab": {
          "base_uri": "https://localhost:8080/"
        },
        "id": "hWFdAURfO69o",
        "outputId": "94eac254-cb18-49f7-fe62-62dde472db2a"
      },
      "execution_count": 77,
      "outputs": [
        {
          "output_type": "stream",
          "name": "stdout",
          "text": [
            "Accuracy: 1.0\n",
            "              precision    recall  f1-score   support\n",
            "\n",
            "           0       1.00      1.00      1.00         1\n",
            "\n",
            "    accuracy                           1.00         1\n",
            "   macro avg       1.00      1.00      1.00         1\n",
            "weighted avg       1.00      1.00      1.00         1\n",
            "\n"
          ]
        }
      ]
    },
    {
      "cell_type": "code",
      "source": [
        "print(\"\\nBatch predictions:\", model.predict(X))"
      ],
      "metadata": {
        "colab": {
          "base_uri": "https://localhost:8080/"
        },
        "id": "HAdZ6iiKPSgi",
        "outputId": "67a062d9-d8b4-4ace-be3c-f0fc0da07b7c"
      },
      "execution_count": 79,
      "outputs": [
        {
          "output_type": "stream",
          "name": "stdout",
          "text": [
            "\n",
            "Batch predictions: [1 0 0 1]\n"
          ]
        }
      ]
    },
    {
      "cell_type": "markdown",
      "source": [
        "### **MLP : Multi-Layer Perceptron**"
      ],
      "metadata": {
        "id": "Q2dv1FYwFh-U"
      }
    },
    {
      "cell_type": "code",
      "source": [
        "class NeuralNetwork:\n",
        "    def __init__(self, input_size, hidden_size, output_size, learning_rate = 0.01, epochs = 100):\n",
        "        self.input_size = input_size # no.of features in the input layer\n",
        "        self.hidden_size = hidden_size # no. of neurons in the hidden layer\n",
        "        self.output_size = output_size # no. of neurons in the output layer\n",
        "        self.learning_rate = learning_rate # learning rate for gradient descent step\n",
        "        self.epochs = epochs\n",
        "\n",
        "        ## Input Layer to Hidden Layer ##\n",
        "        # weights and bias initialization\n",
        "        self.W1 = np.random.randn(self.input_size, self.hidden_size)*0.01\n",
        "        self.b1 = np.zeros((1,self.hidden_size))\n",
        "        ## Hidden Layer to Output Layer ##\n",
        "        # Random weights from hiden layer to output layer and bias for output layer\n",
        "        self.W2 = np.random.randn(self.hidden_size,self.output_size)*0.01\n",
        "        self.b2 = np.zeros((1,self.output_size))\n",
        "        # Loss History & accuracy history for plotting\n",
        "        self.loss_history = []\n",
        "        self.accuracy_history = []\n",
        "\n",
        "    \"\"\"\n",
        "    Activation Function\n",
        "    \"\"\"\n",
        "    # ReLU activation function\n",
        "    def relu(self, z):\n",
        "        return np.maximum(0,z)\n",
        "\n",
        "    # Derivative of ReLU for BackPropagation\n",
        "    def relu_derivative(self, z):\n",
        "        return np.where(z>0, 1, 0)\n",
        "\n",
        "    # Softmax for multiclass classification\n",
        "    def softmax(self, z):\n",
        "        exp_values = np.exp(z - np.max(z,axis = 1, keepdims = True)) # subtract max for numerical stability\n",
        "        return exp_values/np.sum(exp_values, axis = 1, keepdims = True)\n",
        "\n",
        "    \"\"\"\n",
        "    Forward Propagation\n",
        "    \"\"\"\n",
        "    def forward(self, x):\n",
        "        ## Input Layer to Hidden Layer ##\n",
        "        # computes the activated value in the hidden layer using ReLU function\n",
        "        self.z1 = np.dot(x, self.W1) + self.b1\n",
        "        self.a1 = self.relu(self.z1)\n",
        "        ## Hidden Layer to Output Layer ##\n",
        "        # computes the probabilities using softmax for multi-class classification\n",
        "        self.z2 = np.dot(self.a1, self.W2) + self.b2\n",
        "        self.probs = self.softmax(self.z2)\n",
        "\n",
        "        return self.probs\n",
        "\n",
        "    \"\"\"\n",
        "    Loss Computation\n",
        "    \"\"\"\n",
        "    # cross-entropy loss for multiclass classification\n",
        "    def compute_loss(self, y_true, probs):\n",
        "        loss = -np.mean(np.sum(y_true*np.log(probs), axis = 1))\n",
        "        return loss\n",
        "\n",
        "    # compute accuracy\n",
        "    def compute_accuracy(self, y_true, probs):\n",
        "        predictions = np.argmax(probs, axis = 1)\n",
        "        true_labels = np.argmax(y_true, axis = 1)\n",
        "        return np.mean(predictions == true_labels)\n",
        "\n",
        "    \"\"\"\n",
        "    Backward Propagation\n",
        "    \"\"\"\n",
        "    def backward(self, x, y):\n",
        "        m = x.shape[0]\n",
        "        # Gradients of the loss w.r.t weights and biases of the ouput layer\n",
        "        delta3 = self.probs - y\n",
        "        dW2 = np.dot(self.a1.T, delta3)/m\n",
        "        db2 = np.sum(delta3, axis = 0, keepdims = True)/m\n",
        "        # Gradients of the loss w.r.t weights and biases of the hidden layer\n",
        "        delta2 = np.dot(delta3, self.W2.T) * self.relu_derivative(self.z1)\n",
        "        dW1 = np.dot(x.T, delta2)/m\n",
        "        db1 = np.sum(delta2, axis = 0, keepdims = True)/m\n",
        "        # Update the parameters : weights and biases across the layers\n",
        "        self.W2 -= self.learning_rate * dW2\n",
        "        self.b2 -= self.learning_rate * db2\n",
        "        self.W1 -= self.learning_rate * dW1\n",
        "        self.b1 -= self.learning_rate * db1\n",
        "\n",
        "    \"\"\"\n",
        "    Training\n",
        "    \"\"\"\n",
        "    def fit(self, x, y):\n",
        "        for epoch in range(1, self.epochs+1):\n",
        "            # Forward Pass\n",
        "            probs = self.forward(x)\n",
        "            # Compute the categorical cross-entropy loss\n",
        "            loss = self.compute_loss(y, probs)\n",
        "            accuracy = self.compute_accuracy(y,probs)\n",
        "            self.loss_history.append(loss)\n",
        "            self.accuracy_history.append(accuracy)\n",
        "            # Backward pass\n",
        "            self.backward(x, y)\n",
        "            # Print the progress after every 10 epochs\n",
        "            if epoch % 100 == 0:\n",
        "                print(f'Epoch : {epoch}, Loss : {loss:.4f}, Accuracy : {accuracy:.4f}')\n",
        "\n",
        "    \"\"\"\n",
        "    Testing\n",
        "    \"\"\"\n",
        "    def test(self, x_test, y_test):\n",
        "        probs = self.forward(x_test)\n",
        "        loss = self.compute_loss(y_test, probs)\n",
        "        accuracy = self.compute_accuracy(y_test, probs)\n",
        "        print(f'Test Loss : {loss:.4f}, Test Accuracy : {accuracy:.4f}')\n",
        "        return loss, accuracy\n",
        "\n",
        "    \"\"\"\n",
        "    Predict class labels for new data\n",
        "    \"\"\"\n",
        "    def predict(self, x):\n",
        "        probs = self.forward(x)\n",
        "        return np.argmax(probs, axis=1)  # return class label (not one-hot)"
      ],
      "metadata": {
        "id": "gGuWNu8IGthk"
      },
      "execution_count": 81,
      "outputs": []
    },
    {
      "cell_type": "code",
      "source": [
        "from sklearn.datasets import make_classification\n",
        "from sklearn.model_selection import train_test_split\n",
        "from sklearn.preprocessing import OneHotEncoder\n",
        "\n",
        "# === Generate Toy Dataset ===\n",
        "X, y = make_classification(n_samples=3000, n_features=4, n_informative=4, n_redundant=0,\n",
        "                           n_classes=4, n_clusters_per_class=1, random_state=42)\n",
        "\n",
        "# === One-hot encode the labels ===\n",
        "encoder = OneHotEncoder(sparse_output=False)\n",
        "y_encoded = encoder.fit_transform(y.reshape(-1, 1))\n",
        "\n",
        "# === Train-test split ===\n",
        "X_train, X_test, y_train, y_test = train_test_split(X, y_encoded, test_size=0.2, random_state=42)\n",
        "\n",
        "# === Import and initialize your NeuralNetwork ===\n",
        "\n",
        "# === Initialize and Train the Model ===\n",
        "input_size = X_train.shape[1]      # 4 features\n",
        "hidden_size = 8                    # you can experiment with this\n",
        "output_size = y_encoded.shape[1]   # 3 classes\n",
        "\n",
        "model = NeuralNetwork(input_size, hidden_size, output_size, learning_rate=0.1, epochs=1000)\n",
        "model.fit(X_train, y_train)\n",
        "\n",
        "# === Evaluate on Test Set ===\n",
        "model.test(X_test, y_test)"
      ],
      "metadata": {
        "colab": {
          "base_uri": "https://localhost:8080/"
        },
        "id": "40xqqaKzHeA0",
        "outputId": "3b454dbe-a894-44f8-c24b-5cdbd9c826ff"
      },
      "execution_count": 82,
      "outputs": [
        {
          "output_type": "stream",
          "name": "stdout",
          "text": [
            "Epoch : 100, Loss : 1.1323, Accuracy : 0.6038\n",
            "Epoch : 200, Loss : 0.7177, Accuracy : 0.7704\n",
            "Epoch : 300, Loss : 0.6222, Accuracy : 0.7896\n",
            "Epoch : 400, Loss : 0.5893, Accuracy : 0.7937\n",
            "Epoch : 500, Loss : 0.5683, Accuracy : 0.7979\n",
            "Epoch : 600, Loss : 0.5436, Accuracy : 0.8071\n",
            "Epoch : 700, Loss : 0.5180, Accuracy : 0.8229\n",
            "Epoch : 800, Loss : 0.4940, Accuracy : 0.8296\n",
            "Epoch : 900, Loss : 0.4719, Accuracy : 0.8383\n",
            "Epoch : 1000, Loss : 0.4531, Accuracy : 0.8454\n",
            "Test Loss : 0.4532, Test Accuracy : 0.8333\n"
          ]
        },
        {
          "output_type": "execute_result",
          "data": {
            "text/plain": [
              "(np.float64(0.4531918311260002), np.float64(0.8333333333333334))"
            ]
          },
          "metadata": {},
          "execution_count": 82
        }
      ]
    },
    {
      "cell_type": "code",
      "source": [
        "# === Predict class for test set ===\n",
        "y_pred = model.predict(X_test)\n",
        "\n",
        "# Decode one-hot encoded true labels\n",
        "y_true = np.argmax(y_test, axis=1)\n",
        "\n",
        "# Show first 10 predictions\n",
        "print(\"\\nSample Predictions (first 10):\")\n",
        "for i in range(10):\n",
        "    print(f\"Input: {X_test[i]} → Predicted Class: {y_pred[i]}, True Class: {y_true[i]}\")"
      ],
      "metadata": {
        "colab": {
          "base_uri": "https://localhost:8080/"
        },
        "id": "2WTy-J4WRMqr",
        "outputId": "f6cf4717-453f-47b3-9389-069dec5e4124"
      },
      "execution_count": 83,
      "outputs": [
        {
          "output_type": "stream",
          "name": "stdout",
          "text": [
            "\n",
            "Sample Predictions (first 10):\n",
            "Input: [-0.43442417 -0.46169937 -1.53878005 -1.63052875] → Predicted Class: 0, True Class: 0\n",
            "Input: [-1.43870852  0.0423682   0.82782517 -0.13841016] → Predicted Class: 2, True Class: 2\n",
            "Input: [-3.00657969  0.63359946  0.97453006 -1.45922101] → Predicted Class: 2, True Class: 2\n",
            "Input: [-1.4563583   0.01398232  1.2157411  -0.79642515] → Predicted Class: 2, True Class: 1\n",
            "Input: [-0.41945467  1.77553142  1.6020883  -1.81098084] → Predicted Class: 2, True Class: 2\n",
            "Input: [ 0.40964723  0.19507577 -2.12551391 -2.69202602] → Predicted Class: 0, True Class: 0\n",
            "Input: [ 1.4333383 -1.7495421 -2.6719898  2.8024106] → Predicted Class: 3, True Class: 3\n",
            "Input: [-0.83442847 -0.20696719  0.33289537  0.51049123] → Predicted Class: 2, True Class: 2\n",
            "Input: [-1.75642045  0.89700188  1.81224623 -1.49729893] → Predicted Class: 2, True Class: 2\n",
            "Input: [-1.91529026  1.54990413  1.20641807 -2.05989548] → Predicted Class: 2, True Class: 2\n"
          ]
        }
      ]
    },
    {
      "cell_type": "code",
      "source": [
        "# === Predict on a custom input sample ===\n",
        "new_sample = np.array([[0.5, -1.2, 0.3, 2.1]])\n",
        "predicted_class = model.predict(new_sample)[0]\n",
        "print(\"\\nPrediction for custom input:\", new_sample)\n",
        "print(\"Predicted Class:\", predicted_class)"
      ],
      "metadata": {
        "colab": {
          "base_uri": "https://localhost:8080/"
        },
        "id": "tnFaQMKmRTJb",
        "outputId": "6f46d0e5-833d-45a5-bfa3-d69603f4257d"
      },
      "execution_count": 84,
      "outputs": [
        {
          "output_type": "stream",
          "name": "stdout",
          "text": [
            "\n",
            "Prediction for custom input: [[ 0.5 -1.2  0.3  2.1]]\n",
            "Predicted Class: 2\n"
          ]
        }
      ]
    },
    {
      "cell_type": "code",
      "source": [
        "import matplotlib.pyplot as plt\n",
        "\n",
        "def plot_training_curves(model):\n",
        "    epochs_range = range(len(model.loss_history))\n",
        "\n",
        "    fig, ax1 = plt.subplots(figsize=(20, 4))\n",
        "\n",
        "    color = 'tab:red'\n",
        "    ax1.set_xlabel('Epoch')\n",
        "    ax1.set_ylabel('Loss', color=color)\n",
        "    ax1.plot(epochs_range, model.loss_history, color=color, marker='o', label='Loss')\n",
        "    ax1.tick_params(axis='y', labelcolor=color)\n",
        "\n",
        "    ax2 = ax1.twinx()\n",
        "    color = 'tab:green'\n",
        "    ax2.set_ylabel('Accuracy', color=color)\n",
        "    ax2.plot(epochs_range, model.accuracy_history, color=color, marker='x', label='Accuracy')\n",
        "    ax2.tick_params(axis='y', labelcolor=color)\n",
        "    ax2.set_ylim(0, 1.05)\n",
        "\n",
        "    plt.title('Training Loss and Accuracy over Epochs')\n",
        "    fig.tight_layout()\n",
        "    plt.grid(True)\n",
        "    plt.show()\n",
        "\n",
        "# Call the plot\n",
        "plot_training_curves(model)"
      ],
      "metadata": {
        "colab": {
          "base_uri": "https://localhost:8080/",
          "height": 294
        },
        "id": "y7sJGA_eHpeS",
        "outputId": "49567728-6324-4525-bbc1-7962cbea6f96"
      },
      "execution_count": 85,
      "outputs": [
        {
          "output_type": "display_data",
          "data": {
            "text/plain": [
              "<Figure size 2000x400 with 2 Axes>"
            ],
            "image/png": "[encoded data removed]"
          },
          "metadata": {}
        }
      ]
    },
    {
      "cell_type": "markdown",
      "source": [
        "### **Pre-Build MLP**"
      ],
      "metadata": {
        "id": "sjPcPyqLPGfa"
      }
    },
    {
      "cell_type": "code",
      "source": [
        "from sklearn.datasets import make_classification\n",
        "from sklearn.model_selection import train_test_split\n",
        "from sklearn.neural_network import MLPClassifier\n",
        "from sklearn.metrics import accuracy_score, classification_report\n",
        "\n",
        "# === Generate Toy Dataset ===\n",
        "X, y = make_classification(n_samples=3000, n_features=4, n_informative=4, n_redundant=0,\n",
        "                           n_classes=4, n_clusters_per_class=1, random_state=42)\n",
        "\n",
        "# === One-hot encode the labels ===\n",
        "encoder = OneHotEncoder(sparse_output=False)\n",
        "y_encoded = encoder.fit_transform(y.reshape(-1, 1))\n",
        "\n",
        "# === Train-test split ===\n",
        "X_train, X_test, y_train, y_test = train_test_split(X, y_encoded, test_size=0.2, random_state=42)\n",
        "\n",
        "from sklearn.preprocessing import StandardScaler\n",
        "\n",
        "scaler = StandardScaler()\n",
        "X_train_scaled = scaler.fit_transform(X_train)\n",
        "X_test_scaled = scaler.transform(X_test)\n",
        "\n",
        "# === Prebuilt MLP model ===\n",
        "model = MLPClassifier(hidden_layer_sizes=(10, 8),   # 2 hidden layers: 10 & 8 neurons\n",
        "                      activation='relu',            # ReLU activation\n",
        "                      solver='adam',                # Adam optimizer\n",
        "                      max_iter=2000,                # Number of training epochs\n",
        "                      random_state=42)\n",
        "\n",
        "# === Train the model ===\n",
        "model.fit(X_train_scaled, y_train)\n",
        "\n",
        "# === Predict ===\n",
        "y_pred = model.predict(X_test_scaled)\n",
        "\n",
        "# === Evaluate ===\n",
        "print(\"Accuracy:\", accuracy_score(y_test, y_pred))\n",
        "print(classification_report(y_test, y_pred, zero_division=0))"
      ],
      "metadata": {
        "colab": {
          "base_uri": "https://localhost:8080/"
        },
        "id": "sUUYBkh1IuK0",
        "outputId": "687489a2-1b65-456c-97ed-315bab8a0f10"
      },
      "execution_count": 91,
      "outputs": [
        {
          "output_type": "stream",
          "name": "stdout",
          "text": [
            "Accuracy: 0.9316666666666666\n",
            "              precision    recall  f1-score   support\n",
            "\n",
            "           0       0.90      0.97      0.94       136\n",
            "           1       0.97      0.90      0.93       153\n",
            "           2       0.96      0.99      0.98       154\n",
            "           3       0.96      0.92      0.94       157\n",
            "\n",
            "   micro avg       0.95      0.95      0.95       600\n",
            "   macro avg       0.95      0.95      0.95       600\n",
            "weighted avg       0.95      0.95      0.95       600\n",
            " samples avg       0.94      0.95      0.94       600\n",
            "\n"
          ]
        }
      ]
    },
    {
      "cell_type": "code",
      "source": [],
      "metadata": {
        "id": "zJjyu7AKOiYE"
      },
      "execution_count": null,
      "outputs": []
    }
  ]
}