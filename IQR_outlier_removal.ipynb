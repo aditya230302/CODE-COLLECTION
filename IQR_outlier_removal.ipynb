{
 "cells": [
  {
   "cell_type": "code",
   "execution_count": null,
   "id": "33267a54-11c2-4f19-9f69-229bdf15c66b",
   "metadata": {},
   "outputs": [],
   "source": [
    "for i in df.columns:\n",
    "    if df[i].dtype != 'O':\n",
    "        plt.boxplot(df[i])\n",
    "        plt.title(i)\n",
    "        plt.show()"
   ]
  },
  {
   "cell_type": "code",
   "execution_count": null,
   "id": "0032d659-7c51-4bc1-816b-65c47df1eac7",
   "metadata": {},
   "outputs": [],
   "source": [
    "out_col = ['age','campaign','cons.conf.idx']"
   ]
  },
  {
   "cell_type": "code",
   "execution_count": null,
   "id": "6490839f-4702-4229-94bd-0d444e617d72",
   "metadata": {},
   "outputs": [],
   "source": [
    "for col in out_col:\n",
    "    Q1 = df[col].quantile(0.25)\n",
    "    Q3 = df[col].quantile(0.75)\n",
    "    IQR = Q3 - Q1\n",
    "    LL = Q1 - IQR * 1.5\n",
    "    UL = Q3 + IQR * 1.5\n",
    "    df = df[(df[col] <= UL) & (df[col] >=LL)]"
   ]
  }
 ],
 "metadata": {
  "kernelspec": {
   "display_name": "Python 3 (ipykernel)",
   "language": "python",
   "name": "python3"
  },
  "language_info": {
   "codemirror_mode": {
    "name": "ipython",
    "version": 3
   },
   "file_extension": ".py",
   "mimetype": "text/x-python",
   "name": "python",
   "nbconvert_exporter": "python",
   "pygments_lexer": "ipython3",
   "version": "3.12.4"
  }
 },
 "nbformat": 4,
 "nbformat_minor": 5
}
