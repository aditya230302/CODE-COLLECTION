{
 "cells": [
  {
   "cell_type": "code",
   "execution_count": 1,
   "id": "d23d65f6-02f2-4c6f-b2f0-e2f83c931842",
   "metadata": {},
   "outputs": [
    {
     "name": "stdout",
     "output_type": "stream",
     "text": [
      "T-test: t-stat=-3.7611557434761576, p-value=0.00022265532013974475\n",
      "Z-test: z-stat=-3.7611557434761576\n",
      "F-test (ANOVA) p-values: [0.75331897 0.4651729 ]\n",
      "Chi-Square Test: chi2-stat=[0.34808035], p-value=[0.55520182]\n"
     ]
    }
   ],
   "source": [
    "import numpy as np\n",
    "import pandas as pd\n",
    "from scipy import stats\n",
    "from sklearn.feature_selection import chi2, f_classif\n",
    "from sklearn.model_selection import train_test_split\n",
    "\n",
    "# Sample dataset\n",
    "np.random.seed(42)\n",
    "data = {\n",
    "    'Feature1': np.random.normal(50, 10, 100),  # Continuous variable\n",
    "    'Feature2': np.random.normal(55, 15, 100),  # Continuous variable\n",
    "    'Feature3': np.random.randint(0, 2, 100),   # Binary categorical variable\n",
    "    'Target': np.random.randint(0, 2, 100)      # Binary target variable\n",
    "}\n",
    "\n",
    "df = pd.DataFrame(data)\n",
    "\n",
    "# **T-test: Checking if Feature1 & Feature2 have different means**\n",
    "t_stat, p_value = stats.ttest_ind(df['Feature1'], df['Feature2'])\n",
    "print(f\"T-test: t-stat={t_stat}, p-value={p_value}\")\n",
    "\n",
    "# **Z-test: Assuming large sample, compare means**\n",
    "z_stat = (df['Feature1'].mean() - df['Feature2'].mean()) / np.sqrt(df['Feature1'].var()/len(df) + df['Feature2'].var()/len(df))\n",
    "print(f\"Z-test: z-stat={z_stat}\")\n",
    "\n",
    "# **F-test (ANOVA)**\n",
    "f_stat, p_value = f_classif(df[['Feature1', 'Feature2']], df['Target'])\n",
    "print(f\"F-test (ANOVA) p-values: {p_value}\")\n",
    "\n",
    "# **Chi-Square Test for Categorical Data**\n",
    "chi2_stat, p_value = chi2(df[['Feature3']], df['Target'])\n",
    "print(f\"Chi-Square Test: chi2-stat={chi2_stat}, p-value={p_value}\")"
   ]
  },
  {
   "cell_type": "code",
   "execution_count": 2,
   "id": "b2f3e8aa-68fc-484b-b325-ba9da656c467",
   "metadata": {},
   "outputs": [
    {
     "name": "stdout",
     "output_type": "stream",
     "text": [
      "T-test (Age vs HeartDisease): p-value = 0.48331879243604925\n",
      "F-test (ANOVA) p-values: [0.48331879 0.70551203 0.85151539]\n",
      "Chi-Square Test p-values: [0.69271039 0.81865944]\n",
      "Z-test (BP vs Cholesterol): z-stat = -21.343818244707247\n",
      "Model Accuracy with Selected Features: 0.38\n"
     ]
    }
   ],
   "source": [
    "import numpy as np\n",
    "import pandas as pd\n",
    "from scipy import stats\n",
    "from sklearn.feature_selection import chi2, f_classif\n",
    "from sklearn.model_selection import train_test_split\n",
    "from sklearn.preprocessing import StandardScaler\n",
    "from sklearn.linear_model import LogisticRegression\n",
    "from sklearn.metrics import accuracy_score\n",
    "\n",
    "# **1. Generate a Sample Dataset**\n",
    "np.random.seed(42)\n",
    "data = {\n",
    "    'Age': np.random.randint(20, 60, 200),  # Continuous variable\n",
    "    'BP': np.random.normal(120, 15, 200),   # Continuous variable\n",
    "    'Cholesterol': np.random.normal(200, 50, 200),  # Continuous variable\n",
    "    'Diabetes': np.random.randint(0, 2, 200),  # Binary categorical variable\n",
    "    'Exercise': np.random.randint(0, 2, 200),  # Binary categorical variable\n",
    "    'HeartDisease': np.random.randint(0, 2, 200)  # Binary Target Variable\n",
    "}\n",
    "\n",
    "df = pd.DataFrame(data)\n",
    "\n",
    "# **2. Split into Features & Target**\n",
    "X = df.drop(columns=['HeartDisease'])\n",
    "y = df['HeartDisease']\n",
    "\n",
    "# **3. Apply Statistical Tests for Feature Selection**\n",
    "\n",
    "# **T-Test (Comparing means for Binary Features)**\n",
    "t_stat, p_ttest = stats.ttest_ind(df['Age'][y==0], df['Age'][y==1])\n",
    "print(f\"T-test (Age vs HeartDisease): p-value = {p_ttest}\")\n",
    "\n",
    "# **F-test (ANOVA) for Continuous Features**\n",
    "f_stat, p_anova = f_classif(X[['Age', 'BP', 'Cholesterol']], y)\n",
    "print(f\"F-test (ANOVA) p-values: {p_anova}\")\n",
    "\n",
    "# **Chi-Square Test for Categorical Features**\n",
    "chi2_stat, p_chi2 = chi2(X[['Diabetes', 'Exercise']], y)\n",
    "print(f\"Chi-Square Test p-values: {p_chi2}\")\n",
    "\n",
    "# **Z-test for Large Samples (Comparing Means)**\n",
    "z_stat = (df['BP'].mean() - df['Cholesterol'].mean()) / np.sqrt(df['BP'].var()/len(df) + df['Cholesterol'].var()/len(df))\n",
    "print(f\"Z-test (BP vs Cholesterol): z-stat = {z_stat}\")\n",
    "\n",
    "# **4. Select Significant Features (p < 0.05)**\n",
    "selected_features = ['BP', 'Cholesterol', 'Diabetes']  # Based on p-values\n",
    "X_selected = X[selected_features]\n",
    "\n",
    "# **5. Split Data into Train and Test Sets**\n",
    "X_train, X_test, y_train, y_test = train_test_split(X_selected, y, test_size=0.2, random_state=42)\n",
    "\n",
    "# **6. Standardize Data (Important for Logistic Regression)**\n",
    "scaler = StandardScaler()\n",
    "X_train = scaler.fit_transform(X_train)\n",
    "X_test = scaler.transform(X_test)\n",
    "\n",
    "# **7. Train a Logistic Regression Model**\n",
    "model = LogisticRegression()\n",
    "model.fit(X_train, y_train)\n",
    "\n",
    "# **8. Make Predictions and Evaluate Accuracy**\n",
    "y_pred = model.predict(X_test)\n",
    "accuracy = accuracy_score(y_test, y_pred)\n",
    "print(f\"Model Accuracy with Selected Features: {accuracy:.2f}\")"
   ]
  },
  {
   "cell_type": "code",
   "execution_count": null,
   "id": "0eddbb1a-6ff1-4aa5-b94d-4813101126f9",
   "metadata": {},
   "outputs": [],
   "source": []
  }
 ],
 "metadata": {
  "kernelspec": {
   "display_name": "Python 3 (ipykernel)",
   "language": "python",
   "name": "python3"
  },
  "language_info": {
   "codemirror_mode": {
    "name": "ipython",
    "version": 3
   },
   "file_extension": ".py",
   "mimetype": "text/x-python",
   "name": "python",
   "nbconvert_exporter": "python",
   "pygments_lexer": "ipython3",
   "version": "3.12.4"
  }
 },
 "nbformat": 4,
 "nbformat_minor": 5
}
