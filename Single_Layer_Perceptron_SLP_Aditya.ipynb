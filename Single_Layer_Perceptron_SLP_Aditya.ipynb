{
 "cells": [
  {
   "cell_type": "code",
   "execution_count": 27,
   "id": "12bee67b-62ed-4d9e-b368-c725e177ab8e",
   "metadata": {},
   "outputs": [],
   "source": [
    "# import classic libraries\n",
    "import numpy as np\n",
    "import pandas as pd\n",
    "import os\n",
    "import seaborn as sns\n",
    "import matplotlib.pyplot as plt"
   ]
  },
  {
   "cell_type": "markdown",
   "id": "d5832870-d1e4-41e2-9ffa-3da0284c0f95",
   "metadata": {},
   "source": [
    "### **1. Load the Data**"
   ]
  },
  {
   "cell_type": "code",
   "execution_count": 28,
   "id": "1709cbfc-7d23-4362-b51c-a218dd900a7d",
   "metadata": {},
   "outputs": [
    {
     "name": "stdout",
     "output_type": "stream",
     "text": [
      "[[ 2  1]\n",
      " [ 1 -1]\n",
      " [-1 -2]\n",
      " [-2  1]]\n"
     ]
    }
   ],
   "source": [
    "X = np.array([\n",
    "    \n",
    "    [2,1],\n",
    "    [1,-1],\n",
    "    [-1,-2],\n",
    "    [-2,1]])\n",
    "    \n",
    "print(X)"
   ]
  },
  {
   "cell_type": "code",
   "execution_count": 29,
   "id": "d104ccbd-dc00-45f6-9430-795fc12affec",
   "metadata": {},
   "outputs": [
    {
     "name": "stdout",
     "output_type": "stream",
     "text": [
      "[1 0 0 1]\n"
     ]
    }
   ],
   "source": [
    "Y = np.array([1, 0, 0, 1]) # labels\n",
    "print(Y)"
   ]
  },
  {
   "cell_type": "markdown",
   "id": "b2ea0eae-3c76-45dd-bb95-a383d2d508bf",
   "metadata": {},
   "source": [
    "### **2. Define Activation Function** `Unit Step AF`"
   ]
  },
  {
   "cell_type": "code",
   "execution_count": 30,
   "id": "e2cb154f-369d-439f-9e6e-26897fda20e5",
   "metadata": {},
   "outputs": [],
   "source": [
    "def step_af(z):\n",
    "    return 1 if z>=0 else 0"
   ]
  },
  {
   "cell_type": "markdown",
   "id": "ffc3a5bd-9f38-4f0b-8f28-1bc558cdf63e",
   "metadata": {},
   "source": [
    "### **3. Compute Cost Function**"
   ]
  },
  {
   "cell_type": "code",
   "execution_count": 38,
   "id": "b62bd046-fe24-4c76-91c6-bd5c77303e38",
   "metadata": {},
   "outputs": [],
   "source": [
    "def compute_cost(X,Y,W,b):\n",
    "    total_errors = 0\n",
    "    for i in range(len(X)):\n",
    "        z = np.dot(W,X[i]) + b\n",
    "        y_pred = step_af(z)\n",
    "        if y_pred != Y[i]:\n",
    "            total_errors += 1\n",
    "    return total_errors"
   ]
  },
  {
   "cell_type": "markdown",
   "id": "2a333674-a45f-45bf-aa5d-74651ccc9f4d",
   "metadata": {},
   "source": [
    "### **3. Define Single Layer Perceptron (SLP) Model**"
   ]
  },
  {
   "cell_type": "code",
   "execution_count": 39,
   "id": "aea435ab-739d-4ac7-ac67-eb3fe3558bd5",
   "metadata": {},
   "outputs": [],
   "source": [
    "# Perceptron training function with formatted logging, cost and accuracy tracking\n",
    "def slp_train(X, Y, W, b, alpha, epochs):\n",
    "    errors_per_epoch = []\n",
    "    accuracy_per_epoch = []\n",
    "\n",
    "    # Suppress scientific notation and control decimals\n",
    "    np.set_printoptions(precision=3, suppress=True)\n",
    "\n",
    "    for epoch in range(epochs):\n",
    "        print(f\"\\nEpoch# {epoch + 1}\")\n",
    "        total_errors = 0\n",
    "        correct = 0\n",
    "\n",
    "        for i in range(len(X)):\n",
    "            x = X[i]\n",
    "            y = Y[i]\n",
    "\n",
    "            z = np.dot(W, x) + b\n",
    "            y_pred = step_af(z)\n",
    "            error = y_pred - y\n",
    "\n",
    "            if error != 0:\n",
    "                W = W - alpha * error * x\n",
    "                b = b - alpha * error\n",
    "                total_errors += 1\n",
    "            else:\n",
    "                correct += 1\n",
    "\n",
    "            cost = compute_cost(X, Y, W, b)\n",
    "\n",
    "            # Well-formatted log output\n",
    "            print(f\"{'Input:':<10} {x}  \"\n",
    "                  f\"{'Prediction:':<12} {y_pred}  \"\n",
    "                  f\"{'Actual:':<8} {y}  \"\n",
    "                  f\"{'Error:':<7} {error}  \"\n",
    "                  f\"{'Weights:':<9} {W}  \"\n",
    "                  f\"{'Bias:':<6} {b:.3f}  \"\n",
    "                  f\"{'Cost:':<6} {cost}\")\n",
    "\n",
    "        errors_per_epoch.append(total_errors)\n",
    "        accuracy_per_epoch.append(correct / len(X))\n",
    "\n",
    "    return W, b, errors_per_epoch, accuracy_per_epoch"
   ]
  },
  {
   "cell_type": "markdown",
   "id": "e7d2569b-f3dd-400d-8143-c72d58cfd3ff",
   "metadata": {},
   "source": [
    "### let us try running the `SLP` with initial weights and bias"
   ]
  },
  {
   "cell_type": "code",
   "execution_count": 40,
   "id": "219e9dca-77a7-4664-b00d-45b5b617cd30",
   "metadata": {},
   "outputs": [],
   "source": [
    "W = np.array([0.5, -0.5]) # weights initialized as many as features\n",
    "b = 0.1\n",
    "alpha = 0.1\n",
    "epochs = 10"
   ]
  },
  {
   "cell_type": "code",
   "execution_count": 41,
   "id": "5ef29ed7-b2bc-4114-a580-aa45a0810aec",
   "metadata": {},
   "outputs": [
    {
     "name": "stdout",
     "output_type": "stream",
     "text": [
      "\n",
      "Epoch# 1\n",
      "Input:     [2 1]  Prediction:  1  Actual:  1  Error:  0  Weights:  [ 0.5 -0.5]  Bias:  0.100  Cost:  3\n",
      "Input:     [ 1 -1]  Prediction:  1  Actual:  0  Error:  1  Weights:  [ 0.4 -0.4]  Bias:  0.000  Cost:  3\n",
      "Input:     [-1 -2]  Prediction:  1  Actual:  0  Error:  1  Weights:  [ 0.5 -0.2]  Bias:  -0.100  Cost:  2\n",
      "Input:     [-2  1]  Prediction:  0  Actual:  1  Error:  -1  Weights:  [ 0.3 -0.1]  Bias:  0.000  Cost:  2\n",
      "\n",
      "Epoch# 2\n",
      "Input:     [2 1]  Prediction:  1  Actual:  1  Error:  0  Weights:  [ 0.3 -0.1]  Bias:  0.000  Cost:  2\n",
      "Input:     [ 1 -1]  Prediction:  1  Actual:  0  Error:  1  Weights:  [0.2 0. ]  Bias:  -0.100  Cost:  2\n",
      "Input:     [-1 -2]  Prediction:  0  Actual:  0  Error:  0  Weights:  [0.2 0. ]  Bias:  -0.100  Cost:  2\n",
      "Input:     [-2  1]  Prediction:  0  Actual:  1  Error:  -1  Weights:  [-0.   0.1]  Bias:  0.000  Cost:  0\n",
      "\n",
      "Epoch# 3\n",
      "Input:     [2 1]  Prediction:  1  Actual:  1  Error:  0  Weights:  [-0.   0.1]  Bias:  0.000  Cost:  0\n",
      "Input:     [ 1 -1]  Prediction:  0  Actual:  0  Error:  0  Weights:  [-0.   0.1]  Bias:  0.000  Cost:  0\n",
      "Input:     [-1 -2]  Prediction:  0  Actual:  0  Error:  0  Weights:  [-0.   0.1]  Bias:  0.000  Cost:  0\n",
      "Input:     [-2  1]  Prediction:  1  Actual:  1  Error:  0  Weights:  [-0.   0.1]  Bias:  0.000  Cost:  0\n",
      "\n",
      "Epoch# 4\n",
      "Input:     [2 1]  Prediction:  1  Actual:  1  Error:  0  Weights:  [-0.   0.1]  Bias:  0.000  Cost:  0\n",
      "Input:     [ 1 -1]  Prediction:  0  Actual:  0  Error:  0  Weights:  [-0.   0.1]  Bias:  0.000  Cost:  0\n",
      "Input:     [-1 -2]  Prediction:  0  Actual:  0  Error:  0  Weights:  [-0.   0.1]  Bias:  0.000  Cost:  0\n",
      "Input:     [-2  1]  Prediction:  1  Actual:  1  Error:  0  Weights:  [-0.   0.1]  Bias:  0.000  Cost:  0\n",
      "\n",
      "Epoch# 5\n",
      "Input:     [2 1]  Prediction:  1  Actual:  1  Error:  0  Weights:  [-0.   0.1]  Bias:  0.000  Cost:  0\n",
      "Input:     [ 1 -1]  Prediction:  0  Actual:  0  Error:  0  Weights:  [-0.   0.1]  Bias:  0.000  Cost:  0\n",
      "Input:     [-1 -2]  Prediction:  0  Actual:  0  Error:  0  Weights:  [-0.   0.1]  Bias:  0.000  Cost:  0\n",
      "Input:     [-2  1]  Prediction:  1  Actual:  1  Error:  0  Weights:  [-0.   0.1]  Bias:  0.000  Cost:  0\n",
      "\n",
      "Epoch# 6\n",
      "Input:     [2 1]  Prediction:  1  Actual:  1  Error:  0  Weights:  [-0.   0.1]  Bias:  0.000  Cost:  0\n",
      "Input:     [ 1 -1]  Prediction:  0  Actual:  0  Error:  0  Weights:  [-0.   0.1]  Bias:  0.000  Cost:  0\n",
      "Input:     [-1 -2]  Prediction:  0  Actual:  0  Error:  0  Weights:  [-0.   0.1]  Bias:  0.000  Cost:  0\n",
      "Input:     [-2  1]  Prediction:  1  Actual:  1  Error:  0  Weights:  [-0.   0.1]  Bias:  0.000  Cost:  0\n",
      "\n",
      "Epoch# 7\n",
      "Input:     [2 1]  Prediction:  1  Actual:  1  Error:  0  Weights:  [-0.   0.1]  Bias:  0.000  Cost:  0\n",
      "Input:     [ 1 -1]  Prediction:  0  Actual:  0  Error:  0  Weights:  [-0.   0.1]  Bias:  0.000  Cost:  0\n",
      "Input:     [-1 -2]  Prediction:  0  Actual:  0  Error:  0  Weights:  [-0.   0.1]  Bias:  0.000  Cost:  0\n",
      "Input:     [-2  1]  Prediction:  1  Actual:  1  Error:  0  Weights:  [-0.   0.1]  Bias:  0.000  Cost:  0\n",
      "\n",
      "Epoch# 8\n",
      "Input:     [2 1]  Prediction:  1  Actual:  1  Error:  0  Weights:  [-0.   0.1]  Bias:  0.000  Cost:  0\n",
      "Input:     [ 1 -1]  Prediction:  0  Actual:  0  Error:  0  Weights:  [-0.   0.1]  Bias:  0.000  Cost:  0\n",
      "Input:     [-1 -2]  Prediction:  0  Actual:  0  Error:  0  Weights:  [-0.   0.1]  Bias:  0.000  Cost:  0\n",
      "Input:     [-2  1]  Prediction:  1  Actual:  1  Error:  0  Weights:  [-0.   0.1]  Bias:  0.000  Cost:  0\n",
      "\n",
      "Epoch# 9\n",
      "Input:     [2 1]  Prediction:  1  Actual:  1  Error:  0  Weights:  [-0.   0.1]  Bias:  0.000  Cost:  0\n",
      "Input:     [ 1 -1]  Prediction:  0  Actual:  0  Error:  0  Weights:  [-0.   0.1]  Bias:  0.000  Cost:  0\n",
      "Input:     [-1 -2]  Prediction:  0  Actual:  0  Error:  0  Weights:  [-0.   0.1]  Bias:  0.000  Cost:  0\n",
      "Input:     [-2  1]  Prediction:  1  Actual:  1  Error:  0  Weights:  [-0.   0.1]  Bias:  0.000  Cost:  0\n",
      "\n",
      "Epoch# 10\n",
      "Input:     [2 1]  Prediction:  1  Actual:  1  Error:  0  Weights:  [-0.   0.1]  Bias:  0.000  Cost:  0\n",
      "Input:     [ 1 -1]  Prediction:  0  Actual:  0  Error:  0  Weights:  [-0.   0.1]  Bias:  0.000  Cost:  0\n",
      "Input:     [-1 -2]  Prediction:  0  Actual:  0  Error:  0  Weights:  [-0.   0.1]  Bias:  0.000  Cost:  0\n",
      "Input:     [-2  1]  Prediction:  1  Actual:  1  Error:  0  Weights:  [-0.   0.1]  Bias:  0.000  Cost:  0\n"
     ]
    }
   ],
   "source": [
    "final_W, final_b, errors, accuracy =slp_train(X,Y,W,b,alpha, epochs=10)"
   ]
  },
  {
   "cell_type": "code",
   "execution_count": 42,
   "id": "c1344678-5e9a-4ddc-852e-d24aabdff7a3",
   "metadata": {},
   "outputs": [
    {
     "data": {
      "text/plain": [
       "10"
      ]
     },
     "execution_count": 42,
     "metadata": {},
     "output_type": "execute_result"
    }
   ],
   "source": [
    "len(errors)"
   ]
  },
  {
   "cell_type": "code",
   "execution_count": 43,
   "id": "8ccd04ea-7b06-4d64-a629-721ffb601b3d",
   "metadata": {},
   "outputs": [
    {
     "data": {
      "text/plain": [
       "10"
      ]
     },
     "execution_count": 43,
     "metadata": {},
     "output_type": "execute_result"
    }
   ],
   "source": [
    "len(accuracy)"
   ]
  },
  {
   "cell_type": "code",
   "execution_count": 44,
   "id": "9f84e683-4c88-440f-9724-b0bd0f9ad4f4",
   "metadata": {},
   "outputs": [
    {
     "data": {
      "image/png": "[encoded data removed]",
      "text/plain": [
       "<Figure size 1000x600 with 2 Axes>"
      ]
     },
     "metadata": {},
     "output_type": "display_data"
    }
   ],
   "source": [
    "# === Plot errors and accuracy ===\n",
    "fig, ax1 = plt.subplots(figsize=(10,6))\n",
    "\n",
    "color = 'tab:red'\n",
    "ax1.set_xlabel('Epoch')\n",
    "ax1.set_ylabel('Total Errors', color=color)\n",
    "ax1.plot(range(1, epochs + 1), errors, marker='o', color=color, label='Errors')\n",
    "ax1.tick_params(axis='y', labelcolor=color)\n",
    "ax1.set_ylim(bottom=0)\n",
    "\n",
    "ax2 = ax1.twinx()\n",
    "color = 'darkgreen'\n",
    "ax2.set_ylabel('Accuracy', color=color)\n",
    "ax2.plot(range(1, epochs + 1), accuracy, marker='s', color=color, label='Accuracy')\n",
    "ax2.tick_params(axis='y', labelcolor=color)\n",
    "ax2.set_ylim(0, 1.05)\n",
    "\n",
    "plt.title(\"Perceptron Training - Errors & Accuracy per Epoch\")\n",
    "fig.tight_layout()\n",
    "plt.grid(True)\n",
    "plt.show()\n"
   ]
  },
  {
   "cell_type": "code",
   "execution_count": null,
   "id": "a98d9819-66ce-46ad-b88f-385daa3f3a7c",
   "metadata": {},
   "outputs": [],
   "source": []
  }
 ],
 "metadata": {
  "kernelspec": {
   "display_name": "Python 3 (ipykernel)",
   "language": "python",
   "name": "python3"
  },
  "language_info": {
   "codemirror_mode": {
    "name": "ipython",
    "version": 3
   },
   "file_extension": ".py",
   "mimetype": "text/x-python",
   "name": "python",
   "nbconvert_exporter": "python",
   "pygments_lexer": "ipython3",
   "version": "3.12.4"
  }
 },
 "nbformat": 4,
 "nbformat_minor": 5
}
